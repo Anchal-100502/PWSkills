{
  "nbformat": 4,
  "nbformat_minor": 0,
  "metadata": {
    "colab": {
      "provenance": [],
      "authorship_tag": "ABX9TyPaPtAAndWNmyoVTv34Oipp",
      "include_colab_link": true
    },
    "kernelspec": {
      "name": "python3",
      "display_name": "Python 3"
    },
    "language_info": {
      "name": "python"
    }
  },
  "cells": [
    {
      "cell_type": "markdown",
      "metadata": {
        "id": "view-in-github",
        "colab_type": "text"
      },
      "source": [
        "<a href=\"https://colab.research.google.com/github/Anchal-100502/PWSkills/blob/main/My_first_assignment_.ipynb\" target=\"_parent\"><img src=\"https://colab.research.google.com/assets/colab-badge.svg\" alt=\"Open In Colab\"/></a>"
      ]
    },
    {
      "cell_type": "markdown",
      "source": [
        "##Question 1. Explain the key features of Python that make it a popular choice for programming.\n",
        "\n",
        "Answer: Python is popular for its simplicity, versatility, and ease of use. Here are the key features that make it a top choice for developers:\n",
        "\n",
        "1. Readable and Simple Syntax: Python syntax is clean and easy to understand, making it beginner-friendly and ideal for rapid development.\n",
        "  \n",
        "2. Cross-Platform Compatibility: Python can run on multiple operating systems, Windows, macOS, Linux, making it highly portable\n",
        "\n",
        "3. Extensive Libraries and Frameworks: A vast collection of libraries. E.g., NumPy, Django, TensorFlow, enables quick development for web, data science, machine learning, and more.\n",
        "\n",
        "4. Dynamic Typing: Variables do not need explicit type declarations, enhancing flexibility and reducing boilerplate code.\n",
        "\n",
        "5. Interpreted Language: Python code is executed line by line, allowing for quick testing and debugging.\n",
        "\n",
        "6. Support for Multiple Paradigms: Python supports object-oriented, functional, and procedural programming, offering flexibility in how to structure code.\n",
        "\n",
        "7. Large Community and Resources: A vast, active community provides extensive documentation, tutorials, and open-source contributions.\n",
        "\n",
        "8. Scalability: Python works for both small projects and large-scale applications, with tools to optimize performance when needed.\n",
        "\n",
        "9. Integration with Other Languages: Python can easily interface with other languages like C/C++, Java, and web technologies, making it adaptable.\n",
        "\n",
        "10. Rapid Prototyping: Python allows quick development of applications and prototypes, making it ideal for startups and fast-paced environments.\n",
        "\n",
        "These features contribute to Python widespread use in fields like web development, data science, AI, automation, and more."
      ],
      "metadata": {
        "id": "N4AicspG67Je"
      }
    },
    {
      "cell_type": "markdown",
      "source": [
        "##Question 2. Describe the role of predefined keywords in Python and provide examples of how they are used in a program.\n",
        "\n",
        "\n",
        "Answer: Python keywords are special reserved words that have specific meanings and purposes and cannot be used for anything but those specific purposes. These keywords are always available—you will never have to import them into your code.\n",
        "\n",
        "Example print is only used to print a statement . it cannot be useed as identifier\n",
        "\n"
      ],
      "metadata": {
        "id": "zK2ae7-x8wSE"
      }
    },
    {
      "cell_type": "code",
      "source": [
        " ##Example print is only used to print a statement . it cannot be used as identifier."
      ],
      "metadata": {
        "colab": {
          "base_uri": "https://localhost:8080/",
          "height": 106
        },
        "id": "8-LjikR394Xe",
        "outputId": "75fff496-96a6-4d4f-edcb-d232ae0be8f9"
      },
      "execution_count": 5,
      "outputs": [
        {
          "output_type": "error",
          "ename": "SyntaxError",
          "evalue": "invalid syntax (<ipython-input-5-5bbec39a35f6>, line 1)",
          "traceback": [
            "\u001b[0;36m  File \u001b[0;32m\"<ipython-input-5-5bbec39a35f6>\"\u001b[0;36m, line \u001b[0;32m1\u001b[0m\n\u001b[0;31m    Example print is only used to print a statement . it cannot be used as identifier.\u001b[0m\n\u001b[0m            ^\u001b[0m\n\u001b[0;31mSyntaxError\u001b[0m\u001b[0;31m:\u001b[0m invalid syntax\n"
          ]
        }
      ]
    },
    {
      "cell_type": "code",
      "source": [
        "print (\"hello anshu\")"
      ],
      "metadata": {
        "colab": {
          "base_uri": "https://localhost:8080/"
        },
        "id": "V2uMEV6C-U9N",
        "outputId": "bb715603-d18d-457f-b149-466aa523cebc"
      },
      "execution_count": 2,
      "outputs": [
        {
          "output_type": "stream",
          "name": "stdout",
          "text": [
            "hello anshu\n"
          ]
        }
      ]
    },
    {
      "cell_type": "markdown",
      "source": [
        "##Question 3. Compare and contrast mutable and immutable objects in Python with examples.\n",
        "\n",
        "Answer. In Python, mutable and immutable objects differ in whether their state can be modified after creation.\n",
        "\n",
        "Mutable Objects\n",
        "Definition: Can be changed after creation.\n",
        "Examples: Lists, Dictionaries, Sets.\n",
        "Modification: You can modify, add, or remove elements in-place.\n",
        "Effect on References: Changes affect all references to the object.\n",
        "Example (List - Mutable):"
      ],
      "metadata": {
        "id": "A5m0b7sM-zZY"
      }
    },
    {
      "cell_type": "code",
      "source": [
        "my_list = [1, 2, 3]\n",
        "my_list[0] = 10  # Modifies the list in place\n",
        "print(my_list)  # Output: [10, 2, 3]"
      ],
      "metadata": {
        "colab": {
          "base_uri": "https://localhost:8080/"
        },
        "id": "Psa8BpwgAD4n",
        "outputId": "218cb677-42e1-4e2a-9366-b8b8af46d8ec"
      },
      "execution_count": 3,
      "outputs": [
        {
          "output_type": "stream",
          "name": "stdout",
          "text": [
            "[10, 2, 3]\n"
          ]
        }
      ]
    },
    {
      "cell_type": "markdown",
      "source": [
        "Immutable Objects\n",
        "Definition: Cannot be changed after creation.\n",
        "Examples: Strings, Tuples, Integers.\n",
        "Modification: Any change creates a new object.\n",
        "Effect on References: Original object remains unchanged, and a new object is created if modified.\n",
        "Example (String - Immutable):"
      ],
      "metadata": {
        "id": "NP4LT1ZzAL3c"
      }
    },
    {
      "cell_type": "code",
      "source": [
        "my_string = \"Hello\"\n",
        "# my_string[0] = 'h'  # This would raise a TypeError\n",
        "new_string = \"h\" + my_string[1:]  # Creates a new string\n",
        "print(new_string)  # Output: \"hello\""
      ],
      "metadata": {
        "colab": {
          "base_uri": "https://localhost:8080/"
        },
        "id": "62j_HVitAS27",
        "outputId": "65b61472-e24b-4b10-f10a-a2f018b406bd"
      },
      "execution_count": 4,
      "outputs": [
        {
          "output_type": "stream",
          "name": "stdout",
          "text": [
            "hello\n"
          ]
        }
      ]
    },
    {
      "cell_type": "markdown",
      "source": [
        "In summary, mutable objects can be changed in place, while immutable objects cannot be altered and require new objects for modifications."
      ],
      "metadata": {
        "id": "LiwNhtNFA1mY"
      }
    },
    {
      "cell_type": "markdown",
      "source": [
        "##Question 4. Discuss the different types of operators in Python and provide examples of how they are used."
      ],
      "metadata": {
        "id": "XcCGDcClBh4D"
      }
    },
    {
      "cell_type": "markdown",
      "source": [
        "##Types of Python Operators\n",
        "Python language supports various types of operators, which are: 1 Arithmetic Operators 2 Comparison (Relational) Operators 3 Assignment Operators 4 Logical Operators 5 Bitwise Operators 6 Membership Operators 7 Identity Operators"
      ],
      "metadata": {
        "id": "8_tZ-_FYBUSN"
      }
    },
    {
      "cell_type": "code",
      "source": [
        "#Example of Python Arithmetic Operators\n",
        "a = 21\n",
        "b = 10\n",
        "# Addition\n",
        "print (\"a + b : \", a + b)\n",
        "# Subtraction\n",
        "print (\"a - b : \", a - b)\n",
        "# Multiplication\n",
        "print (\"a * b : \", a * b)\n",
        "# Division\n",
        "print (\"a / b : \", a / b)\n",
        "# Modulus\n",
        "print (\"a % b : \", a % b)\n",
        "# Exponent\n",
        "print (\"a ** b : \", a ** b)\n",
        "# Floor Division\n",
        "print (\"a // b : \", a // b)"
      ],
      "metadata": {
        "colab": {
          "base_uri": "https://localhost:8080/"
        },
        "id": "ElDoBaXNB5EE",
        "outputId": "2429bdb7-0718-4d15-e4b5-e58623543d01"
      },
      "execution_count": 6,
      "outputs": [
        {
          "output_type": "stream",
          "name": "stdout",
          "text": [
            "a + b :  31\n",
            "a - b :  11\n",
            "a * b :  210\n",
            "a / b :  2.1\n",
            "a % b :  1\n",
            "a ** b :  16679880978201\n",
            "a // b :  2\n"
          ]
        }
      ]
    },
    {
      "cell_type": "code",
      "source": [
        "# Python Comparison Operators\n",
        "a = 4\n",
        "b = 5\n",
        "# Equal\n",
        "print (\"a == b : \", a == b)\n",
        "# Not Equal\n",
        "print (\"a != b : \", a != b)\n",
        "# Greater Than\n",
        "print (\"a > b : \", a > b)\n",
        "# Less Than\n",
        "print (\"a < b : \", a < b)\n",
        "# Greater Than or Equal to\n",
        "print (\"a >= b : \", a >= b)\n",
        "# Less Than or Equal to\n",
        "print (\"a <= b : \", a <= b)"
      ],
      "metadata": {
        "colab": {
          "base_uri": "https://localhost:8080/"
        },
        "id": "sLkMDCkECIQ6",
        "outputId": "63d4ae9f-49dd-4ca8-d7e3-f633f2e62512"
      },
      "execution_count": 7,
      "outputs": [
        {
          "output_type": "stream",
          "name": "stdout",
          "text": [
            "a == b :  False\n",
            "a != b :  True\n",
            "a > b :  False\n",
            "a < b :  True\n",
            "a >= b :  False\n",
            "a <= b :  True\n"
          ]
        }
      ]
    },
    {
      "cell_type": "code",
      "source": [
        "#Python Assignment Operators\n",
        "# Assignment Operator\n",
        "a = 10\n",
        "# Addition Assignment\n",
        "a += 5\n",
        "print (\"a += 5 : \", a)\n",
        "# Subtraction Assignment\n",
        "a -= 5\n",
        "print (\"a -= 5 : \", a)\n",
        "# Multiplication Assignment\n",
        "a *= 5\n",
        "print (\"a *= 5 : \", a)\n",
        "# Division Assignment\n",
        "a /= 5\n",
        "print (\"a /= 5 : \",a)\n",
        "# Remainder Assignment\n",
        "a %= 3\n",
        "print (\"a %= 3 : \", a)\n",
        "# Exponent Assignment\n",
        "a **= 2\n",
        "print (\"a **= 2 : \", a)\n",
        "# Floor Division Assignment\n",
        "a //= 3\n",
        "print (\"a //= 3 : \", a)"
      ],
      "metadata": {
        "colab": {
          "base_uri": "https://localhost:8080/"
        },
        "id": "E0sEAehbCNNq",
        "outputId": "291c80bc-3ca2-4b2a-fede-16125ef5fbf5"
      },
      "execution_count": 8,
      "outputs": [
        {
          "output_type": "stream",
          "name": "stdout",
          "text": [
            "a += 5 :  15\n",
            "a -= 5 :  10\n",
            "a *= 5 :  50\n",
            "a /= 5 :  10.0\n",
            "a %= 3 :  1.0\n",
            "a **= 2 :  1.0\n",
            "a //= 3 :  0.0\n"
          ]
        }
      ]
    },
    {
      "cell_type": "code",
      "source": [
        "#Python Bitwise Operators\n",
        "a = 60 # 60 = 0011 1100\n",
        "b = 13 # 13 = 0000 1101\n",
        "# Binary AND\n",
        "c = a & b # 12 = 0000 1100\n",
        "print (\"a & b : \", c)\n",
        "# Binary OR\n",
        "c = a | b # 61 = 0011 1101\n",
        "print (\"a | b : \", c)\n",
        "# Binary XOR\n",
        "c = a ^ b # 49 = 0011 0001\n",
        "print (\"a ^ b : \", c)\n",
        "# Binary Ones Complement\n",
        "c = ~a; # -61 = 1100 0011\n",
        "print (\"~a : \", c)\n",
        "# Binary Left Shift\n",
        "c = a << 2; # 240 = 1111 0000\n",
        "print (\"a << 2 : \", c)\n",
        "# Binary Right Shift\n",
        "c = a >> 2; # 15 = 0000 1111\n",
        "print (\"a >> 2 : \", c)"
      ],
      "metadata": {
        "colab": {
          "base_uri": "https://localhost:8080/"
        },
        "id": "Hp49CBE-CcoX",
        "outputId": "e4c9d3a6-cbe3-4543-cf37-543305e826c0"
      },
      "execution_count": 9,
      "outputs": [
        {
          "output_type": "stream",
          "name": "stdout",
          "text": [
            "a & b :  12\n",
            "a | b :  61\n",
            "a ^ b :  49\n",
            "~a :  -61\n",
            "a << 2 :  240\n",
            "a >> 2 :  15\n"
          ]
        }
      ]
    },
    {
      "cell_type": "code",
      "source": [
        "# Python Logical Operators\n",
        "x = 5\n",
        "y = 10\n",
        "if x > 3 and y < 15:\n",
        "  print(\"Both x and y are within the specified range\")"
      ],
      "metadata": {
        "colab": {
          "base_uri": "https://localhost:8080/"
        },
        "id": "BpdhWfqPCmLZ",
        "outputId": "023f1f63-977e-49f5-a59a-53392fa03a47"
      },
      "execution_count": 10,
      "outputs": [
        {
          "output_type": "stream",
          "name": "stdout",
          "text": [
            "Both x and y are within the specified range\n"
          ]
        }
      ]
    },
    {
      "cell_type": "code",
      "source": [
        "#Python Membership Operators\n",
        "fruits = [\"apple\", \"banana\", \"cherry\"]\n",
        "if \"banana\" in fruits:\n",
        "    print(\"Yes, banana is a fruit!\")\n",
        "else:\n",
        "    print(\"No, banana is not a fruit!\")"
      ],
      "metadata": {
        "colab": {
          "base_uri": "https://localhost:8080/"
        },
        "id": "VRR0HHNACo5Y",
        "outputId": "d9728132-e833-4611-c45a-a97e6c28b5c6"
      },
      "execution_count": 11,
      "outputs": [
        {
          "output_type": "stream",
          "name": "stdout",
          "text": [
            "Yes, banana is a fruit!\n"
          ]
        }
      ]
    },
    {
      "cell_type": "code",
      "source": [
        "# Python Identity Operators\n",
        "x = 10\n",
        "y = 5\n",
        "if x is y:\n",
        "    print(\"x and y are the same object\")\n",
        "else:\n",
        "    print(\"x and y are not the same object\")"
      ],
      "metadata": {
        "colab": {
          "base_uri": "https://localhost:8080/"
        },
        "id": "sxGDxYAKCvT3",
        "outputId": "72d5374f-8027-4f63-8c76-1677b969355b"
      },
      "execution_count": 12,
      "outputs": [
        {
          "output_type": "stream",
          "name": "stdout",
          "text": [
            "x and y are not the same object\n"
          ]
        }
      ]
    },
    {
      "cell_type": "markdown",
      "source": [
        "##Question 5. Explain the concept of type casting in Python with examples.\n",
        "\n",
        "Answer. Type casting in Python refers to the conversion of one data type into another. Python provides two types of type casting:\n",
        "\n",
        "Implicit Type Casting (Type Conversion): Automatic conversion done by Python.\n",
        "Explicit Type Casting: Conversion done manually by the programmer using functions.\n",
        "1. Implicit Type Casting (Automatic Conversion)\n",
        "Python automatically converts a lower data type to a higher data type when necessary. This is called implicit type casting or automatic type conversion.\n",
        "\n",
        "Example:\n",
        "When an operation involves an integer and a float, Python automatically converts the integer to a float to ensure no data loss."
      ],
      "metadata": {
        "id": "YKMTSCk-DCud"
      }
    },
    {
      "cell_type": "code",
      "source": [
        "a = 5        # Integer\n",
        "b = 2.0      # Float\n",
        "\n",
        "# Python implicitly converts the integer 'a' to a float before performing the addition\n",
        "result = a + b\n",
        "print(result)  # Output: 7.0 (float result)"
      ],
      "metadata": {
        "colab": {
          "base_uri": "https://localhost:8080/"
        },
        "id": "ceO9z59tDg3e",
        "outputId": "a4c2371b-f9ff-4c82-f920-84a13a7d726f"
      },
      "execution_count": 13,
      "outputs": [
        {
          "output_type": "stream",
          "name": "stdout",
          "text": [
            "7.0\n"
          ]
        }
      ]
    },
    {
      "cell_type": "markdown",
      "source": [
        "In this example, the integer 5 is automatically converted to a float to match the type of 2.0, resulting in a float output 7.0.\n",
        "\n",
        "2. Explicit Type Casting (Manual Conversion)\n",
        "Explicit type casting is when the programmer explicitly converts one data type to another using Python's built-in functions.\n",
        "\n",
        "Common Functions for Explicit Type Casting:\n",
        "int(): Converts a number or string to an integer.\n",
        "float(): Converts a number or string to a float.\n",
        "str(): Converts a number or other data type to a string.\n",
        "list(): Converts a tuple or other iterable to a list.\n",
        "tuple(): Converts a list or other iterable to a tuple.\n",
        "set(): Converts an iterable to a set.\n",
        "Example of Type Casting:"
      ],
      "metadata": {
        "id": "6pv3XXOJDkSY"
      }
    },
    {
      "cell_type": "code",
      "source": [
        "##Converting a Float to an Integer:\n",
        "x = 5.7\n",
        "y = int(x)  # Explicit conversion from float to integer\n",
        "print(y)    # Output: 5 (decimal part is truncated)"
      ],
      "metadata": {
        "colab": {
          "base_uri": "https://localhost:8080/"
        },
        "id": "g4dNqgEtDvS4",
        "outputId": "e5137922-0ef9-42c3-882d-f2a08f34dcff"
      },
      "execution_count": 14,
      "outputs": [
        {
          "output_type": "stream",
          "name": "stdout",
          "text": [
            "5\n"
          ]
        }
      ]
    },
    {
      "cell_type": "code",
      "source": [
        "##Converting a String to a Float:\n",
        "s = \"3.14\"\n",
        "f = float(s)  # Converts string to float\n",
        "print(f)      # Output: 3.14\n"
      ],
      "metadata": {
        "colab": {
          "base_uri": "https://localhost:8080/"
        },
        "id": "y0Q_l0W6D4Cv",
        "outputId": "f228e5ed-1e7c-43d4-f9fd-b41129660060"
      },
      "execution_count": 15,
      "outputs": [
        {
          "output_type": "stream",
          "name": "stdout",
          "text": [
            "3.14\n"
          ]
        }
      ]
    },
    {
      "cell_type": "code",
      "source": [
        "##Converting an Integer to a String:\n",
        "num = 42\n",
        "text = str(num)  # Converts integer to string\n",
        "print(text)      # Output: '42'\n"
      ],
      "metadata": {
        "colab": {
          "base_uri": "https://localhost:8080/"
        },
        "id": "dwqggSgrEM8X",
        "outputId": "e33d87f8-0ca4-4bff-ead0-c5b455d6a01d"
      },
      "execution_count": 16,
      "outputs": [
        {
          "output_type": "stream",
          "name": "stdout",
          "text": [
            "42\n"
          ]
        }
      ]
    },
    {
      "cell_type": "code",
      "source": [
        "##Converting a String to an Integer:\n",
        "s = \"123\"\n",
        "num = int(s)  # Converts string to integer\n",
        "print(num)    # Output: 123\n"
      ],
      "metadata": {
        "colab": {
          "base_uri": "https://localhost:8080/"
        },
        "id": "GJbEO-cVEaRR",
        "outputId": "ee7735c7-9225-4f9f-fea9-edfd3ccebcc3"
      },
      "execution_count": 17,
      "outputs": [
        {
          "output_type": "stream",
          "name": "stdout",
          "text": [
            "123\n"
          ]
        }
      ]
    },
    {
      "cell_type": "markdown",
      "source": [
        "Type Casting with Compatibility:\n",
        "Sometimes, explicit type casting might fail if the data types are incompatible. For instance, trying to convert a non-numeric string to an integer will raise an error.\n",
        "\n",
        "Example of an Error:"
      ],
      "metadata": {
        "id": "RtwWW9A4EssY"
      }
    },
    {
      "cell_type": "code",
      "source": [
        "s = \"Hello\"\n",
        "num = int(s)  # This will raise a ValueError because 'Hello' is not a number\n"
      ],
      "metadata": {
        "colab": {
          "base_uri": "https://localhost:8080/",
          "height": 158
        },
        "id": "S675XmVPEuso",
        "outputId": "8b0cbaf8-bb9d-4022-fd82-f69d97ad2bda"
      },
      "execution_count": 18,
      "outputs": [
        {
          "output_type": "error",
          "ename": "ValueError",
          "evalue": "invalid literal for int() with base 10: 'Hello'",
          "traceback": [
            "\u001b[0;31m---------------------------------------------------------------------------\u001b[0m",
            "\u001b[0;31mValueError\u001b[0m                                Traceback (most recent call last)",
            "\u001b[0;32m<ipython-input-18-a24b30306c98>\u001b[0m in \u001b[0;36m<cell line: 2>\u001b[0;34m()\u001b[0m\n\u001b[1;32m      1\u001b[0m \u001b[0ms\u001b[0m \u001b[0;34m=\u001b[0m \u001b[0;34m\"Hello\"\u001b[0m\u001b[0;34m\u001b[0m\u001b[0;34m\u001b[0m\u001b[0m\n\u001b[0;32m----> 2\u001b[0;31m \u001b[0mnum\u001b[0m \u001b[0;34m=\u001b[0m \u001b[0mint\u001b[0m\u001b[0;34m(\u001b[0m\u001b[0ms\u001b[0m\u001b[0;34m)\u001b[0m  \u001b[0;31m# This will raise a ValueError because 'Hello' is not a number\u001b[0m\u001b[0;34m\u001b[0m\u001b[0;34m\u001b[0m\u001b[0m\n\u001b[0m",
            "\u001b[0;31mValueError\u001b[0m: invalid literal for int() with base 10: 'Hello'"
          ]
        }
      ]
    },
    {
      "cell_type": "code",
      "source": [
        "##Output\n",
        "##ValueError: invalid literal for int() with base 10: 'Hello'"
      ],
      "metadata": {
        "id": "EuFBRqwLFEzH"
      },
      "execution_count": 19,
      "outputs": []
    },
    {
      "cell_type": "markdown",
      "source": [
        "Type Casting with Complex Numbers:\n",
        "Python also allows explicit type casting with complex numbers.\n",
        "\n",
        "Example:"
      ],
      "metadata": {
        "id": "jpW0F-NhFQF-"
      }
    },
    {
      "cell_type": "code",
      "source": [
        "c = 2 + 3j  # Complex number\n",
        "print(int(c))  # This will raise an error because complex numbers cannot be directly converted to integers\n",
        "\n",
        "##Output\n",
        "#TypeError: can't convert complex to int"
      ],
      "metadata": {
        "colab": {
          "base_uri": "https://localhost:8080/",
          "height": 176
        },
        "id": "RbqTPkSsFYIH",
        "outputId": "4af8eb17-75c0-48e9-ef97-ec892f900ecc"
      },
      "execution_count": 20,
      "outputs": [
        {
          "output_type": "error",
          "ename": "TypeError",
          "evalue": "int() argument must be a string, a bytes-like object or a real number, not 'complex'",
          "traceback": [
            "\u001b[0;31m---------------------------------------------------------------------------\u001b[0m",
            "\u001b[0;31mTypeError\u001b[0m                                 Traceback (most recent call last)",
            "\u001b[0;32m<ipython-input-20-571496ba62b9>\u001b[0m in \u001b[0;36m<cell line: 2>\u001b[0;34m()\u001b[0m\n\u001b[1;32m      1\u001b[0m \u001b[0mc\u001b[0m \u001b[0;34m=\u001b[0m \u001b[0;36m2\u001b[0m \u001b[0;34m+\u001b[0m \u001b[0;36m3j\u001b[0m  \u001b[0;31m# Complex number\u001b[0m\u001b[0;34m\u001b[0m\u001b[0;34m\u001b[0m\u001b[0m\n\u001b[0;32m----> 2\u001b[0;31m \u001b[0mprint\u001b[0m\u001b[0;34m(\u001b[0m\u001b[0mint\u001b[0m\u001b[0;34m(\u001b[0m\u001b[0mc\u001b[0m\u001b[0;34m)\u001b[0m\u001b[0;34m)\u001b[0m  \u001b[0;31m# This will raise an error because complex numbers cannot be directly converted to integers\u001b[0m\u001b[0;34m\u001b[0m\u001b[0;34m\u001b[0m\u001b[0m\n\u001b[0m",
            "\u001b[0;31mTypeError\u001b[0m: int() argument must be a string, a bytes-like object or a real number, not 'complex'"
          ]
        }
      ]
    },
    {
      "cell_type": "markdown",
      "source": [
        "Summary:\n",
        "Implicit Type Casting: Done automatically by Python when it’s safe to convert a lower type to a higher type (e.g., int to float).\n",
        "Explicit Type Casting: Done manually using functions like int(), float(), str(), etc., to convert one type to another.\n",
        "Using type casting, you can manage data types efficiently and ensure that your operations work as expected. However, be cautious when converting incompatible types, as it may result in runtime errors."
      ],
      "metadata": {
        "id": "BEuHc5JBFx28"
      }
    },
    {
      "cell_type": "markdown",
      "source": [
        "##Question 6. How do conditional statements work in Python? Illustrate with examples.\n",
        "\n",
        "Answer."
      ],
      "metadata": {
        "id": "kA3JCXo4F_Np"
      }
    },
    {
      "cell_type": "code",
      "source": [
        "num = 5\n",
        "\n",
        "if num > 0:\n",
        "    print(\"The number is positive.\")"
      ],
      "metadata": {
        "colab": {
          "base_uri": "https://localhost:8080/"
        },
        "id": "vT4g_MrbGWVs",
        "outputId": "e3319f46-4410-4edc-b2a3-9923cd6db0b8"
      },
      "execution_count": 21,
      "outputs": [
        {
          "output_type": "stream",
          "name": "stdout",
          "text": [
            "The number is positive.\n"
          ]
        }
      ]
    },
    {
      "cell_type": "code",
      "source": [
        "num = 5\n",
        "\n",
        "if num > 0:\n",
        "    print(\"The number is positive.\")"
      ],
      "metadata": {
        "colab": {
          "base_uri": "https://localhost:8080/"
        },
        "id": "TBP-TrQmGfXw",
        "outputId": "014c1a33-ed5e-4eba-bc2c-51daabee374a"
      },
      "execution_count": 22,
      "outputs": [
        {
          "output_type": "stream",
          "name": "stdout",
          "text": [
            "The number is positive.\n"
          ]
        }
      ]
    },
    {
      "cell_type": "code",
      "source": [
        "score = 85\n",
        "\n",
        "if score >= 90:\n",
        "    grade = \"A\"\n",
        "elif score >= 80:\n",
        "    grade = \"B\"\n",
        "elif score >= 70:\n",
        "    grade = \"C\"\n",
        "elif score >= 60:\n",
        "    grade = \"D\"\n",
        "else:\n",
        "    grade = \"F\"\n",
        "\n",
        "print(\"Your grade is:\", grade)"
      ],
      "metadata": {
        "colab": {
          "base_uri": "https://localhost:8080/"
        },
        "id": "B6EDtbHkGiR-",
        "outputId": "2eb4d30a-d4d5-4039-9153-a4273beb5841"
      },
      "execution_count": 23,
      "outputs": [
        {
          "output_type": "stream",
          "name": "stdout",
          "text": [
            "Your grade is: B\n"
          ]
        }
      ]
    },
    {
      "cell_type": "markdown",
      "source": [
        "##Question 7.  Describe the different types of loops in Python and their use cases with examples.\n",
        "\n",
        "Answer. A loop is a control flow statement in Python that allows you to execute a piece of code repeatedly until a specific condition is met. Loops are necessary for operations that require repetitive execution, such as iterating through a Python list of items or doing calculations many times."
      ],
      "metadata": {
        "id": "ihJMLOPvGu-8"
      }
    },
    {
      "cell_type": "code",
      "source": [
        "# python while loop\n",
        "count = 0\n",
        "while (count < 10):\n",
        " print ('The count is:', count)\n",
        " count = count + 1\n",
        "print (\"Good bye!\")"
      ],
      "metadata": {
        "colab": {
          "base_uri": "https://localhost:8080/"
        },
        "id": "Rv5aHPAnHNoC",
        "outputId": "01a2dbf5-9761-445d-c13c-f67ab5525528"
      },
      "execution_count": 24,
      "outputs": [
        {
          "output_type": "stream",
          "name": "stdout",
          "text": [
            "The count is: 0\n",
            "The count is: 1\n",
            "The count is: 2\n",
            "The count is: 3\n",
            "The count is: 4\n",
            "The count is: 5\n",
            "The count is: 6\n",
            "The count is: 7\n",
            "The count is: 8\n",
            "The count is: 9\n",
            "Good bye!\n"
          ]
        }
      ]
    },
    {
      "cell_type": "code",
      "source": [
        "#python for loop\n",
        "for letter in 'Python': # First Example\n",
        " print ('Current Letter :', letter)\n",
        "fruits = ['guava', 'apple', 'mango']\n",
        "for fruit in fruits: # Second Example\n",
        " print ('Current fruit :', fruit)\n",
        "print (\"Good bye!\")"
      ],
      "metadata": {
        "colab": {
          "base_uri": "https://localhost:8080/"
        },
        "id": "1KgKqjQfHTlT",
        "outputId": "98987473-8f75-411d-8eaf-ac216da9b0be"
      },
      "execution_count": 25,
      "outputs": [
        {
          "output_type": "stream",
          "name": "stdout",
          "text": [
            "Current Letter : P\n",
            "Current Letter : y\n",
            "Current Letter : t\n",
            "Current Letter : h\n",
            "Current Letter : o\n",
            "Current Letter : n\n",
            "Current fruit : guava\n",
            "Current fruit : apple\n",
            "Current fruit : mango\n",
            "Good bye!\n"
          ]
        }
      ]
    },
    {
      "cell_type": "code",
      "source": [
        "#python nested loop\n",
        "i = 2\n",
        "while(i < 100):\n",
        " j = 2\n",
        " while(j <= (i/j)):\n",
        "   if not(i%j): break\n",
        "   j = j + 1\n",
        " if (j > i/j) : print (i, \" is prime\")\n",
        " i = i + 1\n",
        "print (\"Good bye!\")"
      ],
      "metadata": {
        "colab": {
          "base_uri": "https://localhost:8080/"
        },
        "id": "xblcJQ6eHW78",
        "outputId": "0e6cd5bc-4971-4bf2-a30b-9d0c98688318"
      },
      "execution_count": 26,
      "outputs": [
        {
          "output_type": "stream",
          "name": "stdout",
          "text": [
            "2  is prime\n",
            "3  is prime\n",
            "5  is prime\n",
            "7  is prime\n",
            "11  is prime\n",
            "13  is prime\n",
            "17  is prime\n",
            "19  is prime\n",
            "23  is prime\n",
            "29  is prime\n",
            "31  is prime\n",
            "37  is prime\n",
            "41  is prime\n",
            "43  is prime\n",
            "47  is prime\n",
            "53  is prime\n",
            "59  is prime\n",
            "61  is prime\n",
            "67  is prime\n",
            "71  is prime\n",
            "73  is prime\n",
            "79  is prime\n",
            "83  is prime\n",
            "89  is prime\n",
            "97  is prime\n",
            "Good bye!\n"
          ]
        }
      ]
    }
  ]
}