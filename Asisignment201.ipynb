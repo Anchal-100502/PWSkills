{
  "nbformat": 4,
  "nbformat_minor": 0,
  "metadata": {
    "colab": {
      "provenance": [],
      "authorship_tag": "ABX9TyOwNV8FelZiNX8V8wGUKq5V",
      "include_colab_link": true
    },
    "kernelspec": {
      "name": "python3",
      "display_name": "Python 3"
    },
    "language_info": {
      "name": "python"
    }
  },
  "cells": [
    {
      "cell_type": "markdown",
      "metadata": {
        "id": "view-in-github",
        "colab_type": "text"
      },
      "source": [
        "<a href=\"https://colab.research.google.com/github/Anchal-100502/PWSkills/blob/main/Asisignment201.ipynb\" target=\"_parent\"><img src=\"https://colab.research.google.com/assets/colab-badge.svg\" alt=\"Open In Colab\"/></a>"
      ]
    },
    {
      "cell_type": "markdown",
      "source": [
        "Question 1. Write a code to reverse a string?\n",
        "\n",
        "Answer:"
      ],
      "metadata": {
        "id": "_-QMThZu9dh1"
      }
    },
    {
      "cell_type": "code",
      "source": [
        "def reverse_string(s):\n",
        "    return s[::-1]\n",
        "\n",
        "# Example usage:\n",
        "input_string = \"hello\"\n",
        "reversed_string = reverse_string(input_string)\n",
        "print(\"Reversed string:\", reversed_string)\n"
      ],
      "metadata": {
        "colab": {
          "base_uri": "https://localhost:8080/"
        },
        "id": "z887DFC39q1e",
        "outputId": "da97ad98-c760-42d5-adcb-6e0c93b1928d"
      },
      "execution_count": null,
      "outputs": [
        {
          "output_type": "stream",
          "name": "stdout",
          "text": [
            "Reversed string: olleh\n"
          ]
        }
      ]
    },
    {
      "cell_type": "markdown",
      "source": [
        "Explanation:\n",
        "The slicing operation s[::-1] reverses the string by taking all characters in the string in reverse order.\n",
        "You can replace the string \"hello\" with any string you want to reverse.\n",
        "Let me know if you'd like it in another language or have any questions!"
      ],
      "metadata": {
        "id": "MM-TYWef-DGo"
      }
    },
    {
      "cell_type": "markdown",
      "source": [
        "Question 2. Write a code to count the number of vowels in a string.\n",
        "\n",
        "Answer:"
      ],
      "metadata": {
        "id": "aEMAzFBO-OPL"
      }
    },
    {
      "cell_type": "code",
      "source": [
        "def count_vowels(s):\n",
        "    vowels = \"aeiouAEIOU\"  # Vowels (both lowercase and uppercase)\n",
        "    count = 0\n",
        "\n",
        "    for char in s:\n",
        "        if char in vowels:\n",
        "            count += 1\n",
        "\n",
        "    return count\n",
        "\n",
        "# Example usage:\n",
        "input_string = \"Hello World\"\n",
        "vowel_count = count_vowels(input_string)\n",
        "print(f\"Number of vowels in '{input_string}':\", vowel_count)\n"
      ],
      "metadata": {
        "colab": {
          "base_uri": "https://localhost:8080/"
        },
        "id": "FxW6ZxfX-gzc",
        "outputId": "d2bf9fff-4e16-40b8-8b71-14d71e18f299"
      },
      "execution_count": null,
      "outputs": [
        {
          "output_type": "stream",
          "name": "stdout",
          "text": [
            "Number of vowels in 'Hello World': 3\n"
          ]
        }
      ]
    },
    {
      "cell_type": "markdown",
      "source": [
        "Explanation:\n",
        "The function count_vowels() checks each character in the string to see if it's a vowel (i.e., one of a, e, i, o, u in either lowercase or uppercase).\n",
        "For each vowel, it increments the counter count.\n",
        "Finally, it returns the total count of vowels found in the string.\n",
        "You can test it with different strings by changing the input_string variable!"
      ],
      "metadata": {
        "id": "ZCdEkRSI-q9U"
      }
    },
    {
      "cell_type": "markdown",
      "source": [],
      "metadata": {
        "id": "xoAvltlT9t7c"
      }
    },
    {
      "cell_type": "markdown",
      "source": [
        "Qestion 3. Write a code to check if a given string is a palindrome or not.\n",
        "\n",
        "Answer:"
      ],
      "metadata": {
        "id": "7iZkmPDU-xUr"
      }
    },
    {
      "cell_type": "code",
      "source": [
        "def is_palindrome(s):\n",
        "    # Remove spaces and convert to lowercase for case-insensitive comparison\n",
        "    cleaned_string = s.replace(\" \", \"\").lower()\n",
        "\n",
        "    # Compare the string with its reverse\n",
        "    return cleaned_string == cleaned_string[::-1]\n",
        "\n",
        "# Example usage:\n",
        "input_string = \"A man a plan a canal Panama\"\n",
        "if is_palindrome(input_string):\n",
        "    print(f\"'{input_string}' is a palindrome.\")\n",
        "else:\n",
        "    print(f\"'{input_string}' is not a palindrome.\")"
      ],
      "metadata": {
        "colab": {
          "base_uri": "https://localhost:8080/"
        },
        "id": "LOdbjN-2AE49",
        "outputId": "8abc906a-ce37-43ea-e19e-59c9645475ef"
      },
      "execution_count": null,
      "outputs": [
        {
          "output_type": "stream",
          "name": "stdout",
          "text": [
            "'A man a plan a canal Panama' is a palindrome.\n"
          ]
        }
      ]
    },
    {
      "cell_type": "markdown",
      "source": [
        "Explanation:\n",
        "The function is_palindrome() first removes spaces and converts the string to lowercase to make the check case-insensitive and ignore spaces.\n",
        "It then checks if the string is equal to its reverse (s[::-1]).\n",
        "If the string is a palindrome, it returns True; otherwise, it returns False.\n",
        "You can test it with other strings by changing the input_string variable!"
      ],
      "metadata": {
        "id": "eQP4XWBnATZ-"
      }
    },
    {
      "cell_type": "markdown",
      "source": [
        "Question 4. Write a code to check if two given strings are anagrams of each other.\n",
        "\n",
        "Answer:"
      ],
      "metadata": {
        "id": "IHqIvw-qAff4"
      }
    },
    {
      "cell_type": "code",
      "source": [
        "def are_anagrams(str1, str2):\n",
        "    # Remove spaces and convert to lowercase for case-insensitive comparison\n",
        "    str1 = str1.replace(\" \", \"\").lower()\n",
        "    str2 = str2.replace(\" \", \"\").lower()\n",
        "\n",
        "    # Sort both strings and compare\n",
        "    return sorted(str1) == sorted(str2)\n",
        "\n",
        "# Example usage:\n",
        "string1 = \"Listen\"\n",
        "string2 = \"Silent\"\n",
        "\n",
        "if are_anagrams(string1, string2):\n",
        "    print(f\"'{string1}' and '{string2}' are anagrams.\")\n",
        "else:\n",
        "    print(f\"'{string1}' and '{string2}' are not anagrams.\")"
      ],
      "metadata": {
        "colab": {
          "base_uri": "https://localhost:8080/"
        },
        "id": "o-PDwbVVBd0i",
        "outputId": "64933276-2470-4f54-e98f-3d07ac6cc533"
      },
      "execution_count": null,
      "outputs": [
        {
          "output_type": "stream",
          "name": "stdout",
          "text": [
            "'Listen' and 'Silent' are anagrams.\n"
          ]
        }
      ]
    },
    {
      "cell_type": "markdown",
      "source": [
        "Explanation:\n",
        "The function are_anagrams() removes spaces and converts both strings to lowercase to ensure the comparison is case-insensitive and ignores spaces.\n",
        "Then it sorts the characters in both strings and compares them.\n",
        "If the sorted versions of the strings are identical, the strings are anagrams.\n",
        "If not, they are not anagrams.\n",
        "You can test it with other pairs of strings by changing the values of string1 and string2!"
      ],
      "metadata": {
        "id": "yJPFA7lLBo5P"
      }
    },
    {
      "cell_type": "markdown",
      "source": [
        "Question 5. Write a code to find all occurrences of a given substring within another string.\n",
        "\n",
        "Answer:"
      ],
      "metadata": {
        "id": "SFAUN8hVBry4"
      }
    },
    {
      "cell_type": "code",
      "source": [
        "def find_substring_occurrences(main_string, substring):\n",
        "    # Initialize an empty list to store the starting indices of the occurrences\n",
        "    indices = []\n",
        "    start = 0\n",
        "\n",
        "    # Loop to find all occurrences of the substring\n",
        "    while start < len(main_string):\n",
        "        # Find the index of the next occurrence of the substring\n",
        "        start = main_string.find(substring, start)\n",
        "\n",
        "        # If an occurrence is found, append the index and move the start position\n",
        "        if start == -1:\n",
        "            break\n",
        "        indices.append(start)\n",
        "        start += 1  # Increment start to continue searching for next occurrence\n",
        "\n",
        "    return indices\n",
        "\n",
        "# Example usage:\n",
        "main_string = \"The quick brown fox jumps over the lazy fox.\"\n",
        "substring = \"fox\"\n",
        "occurrences = find_substring_occurrences(main_string, substring)\n",
        "\n",
        "print(f\"All occurrences of '{substring}' in '{main_string}': {occurrences}\")"
      ],
      "metadata": {
        "colab": {
          "base_uri": "https://localhost:8080/"
        },
        "id": "htrJqM00CBew",
        "outputId": "cac403d5-b949-4f48-cd0c-97d6f24f7ae4"
      },
      "execution_count": null,
      "outputs": [
        {
          "output_type": "stream",
          "name": "stdout",
          "text": [
            "All occurrences of 'fox' in 'The quick brown fox jumps over the lazy fox.': [16, 40]\n"
          ]
        }
      ]
    },
    {
      "cell_type": "markdown",
      "source": [
        "Explanation:\n",
        "The function find_substring_occurrences() uses the find() method to search for the substring within the main_string.\n",
        "find() returns the index of the first occurrence of the substring or -1 if it's not found.\n",
        "The start position is updated after each found occurrence to continue searching for subsequent occurrences.\n",
        "The function keeps track of all the starting indices of the occurrences of the substring in the list indices."
      ],
      "metadata": {
        "id": "f4PObrWzCP2v"
      }
    },
    {
      "cell_type": "code",
      "source": [
        "All occurrences of 'fox' in 'The quick brown fox jumps over the lazy fox.': [16, 40]"
      ],
      "metadata": {
        "colab": {
          "base_uri": "https://localhost:8080/",
          "height": 106
        },
        "id": "p1YHJAQRC2a3",
        "outputId": "090aea23-5bdb-4683-a8bb-157973f69551"
      },
      "execution_count": null,
      "outputs": [
        {
          "output_type": "error",
          "ename": "SyntaxError",
          "evalue": "invalid syntax (<ipython-input-6-604cebf971c1>, line 1)",
          "traceback": [
            "\u001b[0;36m  File \u001b[0;32m\"<ipython-input-6-604cebf971c1>\"\u001b[0;36m, line \u001b[0;32m1\u001b[0m\n\u001b[0;31m    All occurrences of 'fox' in 'The quick brown fox jumps over the lazy fox.': [16, 40]\u001b[0m\n\u001b[0m        ^\u001b[0m\n\u001b[0;31mSyntaxError\u001b[0m\u001b[0;31m:\u001b[0m invalid syntax\n"
          ]
        }
      ]
    },
    {
      "cell_type": "markdown",
      "source": [
        "This code will return the indices where the substring appears in the main string. You can adjust the main_string and substring to test with other inputs!"
      ],
      "metadata": {
        "id": "EPvIsJlCDVz_"
      }
    },
    {
      "cell_type": "markdown",
      "source": [
        "Question 6. Write a code to perform basic string compression using the counts of repeated characters.\n",
        "\n",
        "Answer:Python code to perform basic string compression using the counts of repeated characters. If a character appears consecutively more than once, it is replaced with the character followed by the count. If the compressed version isn't shorter than the original string, the function will return the original string."
      ],
      "metadata": {
        "id": "0aR7OwxSDnC6"
      }
    },
    {
      "cell_type": "code",
      "source": [
        "def compress_string(s):\n",
        "    # Initialize an empty result string\n",
        "    compressed = []\n",
        "    count = 1\n",
        "\n",
        "    # Loop through the string and count consecutive characters\n",
        "    for i in range(1, len(s)):\n",
        "        if s[i] == s[i - 1]:\n",
        "            count += 1\n",
        "        else:\n",
        "            compressed.append(s[i - 1] + str(count) if count > 1 else s[i - 1])\n",
        "            count = 1  # Reset the count for the next character\n",
        "\n",
        "    # Append the last character or its count if needed\n",
        "    compressed.append(s[-1] + str(count) if count > 1 else s[-1])\n",
        "\n",
        "    # Join the list into a string and return the compressed version\n",
        "    compressed_str = ''.join(compressed)\n",
        "\n",
        "    # If the compressed string is not shorter, return the original string\n",
        "    return compressed_str if len(compressed_str) < len(s) else s\n",
        "\n",
        "# Example usage:\n",
        "input_string = \"aaabbccccdda\"\n",
        "compressed_string = compress_string(input_string)\n",
        "print(f\"Compressed string: {compressed_string}\")"
      ],
      "metadata": {
        "colab": {
          "base_uri": "https://localhost:8080/"
        },
        "id": "AogzOn5t6RYZ",
        "outputId": "1a93994c-88bd-4f7c-a6e1-933616447fef"
      },
      "execution_count": null,
      "outputs": [
        {
          "output_type": "stream",
          "name": "stdout",
          "text": [
            "Compressed string: a3b2c4d2a\n"
          ]
        }
      ]
    },
    {
      "cell_type": "markdown",
      "source": [
        "Explanation:\n",
        "The function loops through the input string, counting consecutive occurrences of each character.\n",
        "If the character repeats more than once, it appends the character followed by the count to the result list.\n",
        "If the compressed version is longer than the original string, it returns the original string.\n",
        "Example:\n",
        "For the input \"aaabbccccdda\", the output would be:"
      ],
      "metadata": {
        "id": "8A3m005E6ez2"
      }
    },
    {
      "cell_type": "code",
      "source": [
        "Compressed string: a3b2c4d2a1"
      ],
      "metadata": {
        "id": "NaVEwxM06nzP"
      },
      "execution_count": null,
      "outputs": []
    },
    {
      "cell_type": "markdown",
      "source": [
        "This code handles basic string compression effectively.\n",
        "\n",
        "\n",
        "\n"
      ],
      "metadata": {
        "id": "bZvp1dat6pLl"
      }
    },
    {
      "cell_type": "markdown",
      "source": [
        "Question 7. Write a code to determine if a string has all unique characters.\n",
        "\n",
        "Answer:Python code to determine if a string has all unique characters:\n",
        "\n",
        "Approach:\n",
        "Use a set to track the characters you've seen so far. If you encounter a character that has already been seen, then the string doesn't have all unique characters.\n",
        "If you finish iterating through the string without finding duplicates, then all characters are unique."
      ],
      "metadata": {
        "id": "BqxfvKnd6t9o"
      }
    },
    {
      "cell_type": "code",
      "source": [
        "def has_unique_characters(s):\n",
        "    # Create an empty set to store characters\n",
        "    seen_characters = set()\n",
        "\n",
        "    # Iterate through each character in the string\n",
        "    for char in s:\n",
        "        if char in seen_characters:\n",
        "            return False  # Duplicate character found\n",
        "        seen_characters.add(char)\n",
        "\n",
        "    # No duplicates found, so the string has all unique characters\n",
        "    return True\n",
        "\n",
        "# Example usage:\n",
        "input_string = \"abcdefg\"\n",
        "if has_unique_characters(input_string):\n",
        "    print(f\"'{input_string}' has all unique characters.\")\n",
        "else:\n",
        "    print(f\"'{input_string}' does not have all unique characters.\")\n"
      ],
      "metadata": {
        "colab": {
          "base_uri": "https://localhost:8080/"
        },
        "id": "HUBdwNhn6-Tp",
        "outputId": "531ea552-0a69-44ef-e879-83a4f98cacdd"
      },
      "execution_count": null,
      "outputs": [
        {
          "output_type": "stream",
          "name": "stdout",
          "text": [
            "'abcdefg' has all unique characters.\n"
          ]
        }
      ]
    },
    {
      "cell_type": "markdown",
      "source": [
        "Explanation:\n",
        "The function has_unique_characters() uses a set called seen_characters to store the characters that have already been encountered.\n",
        "As the function loops through each character in the string, it checks if the character is already in the set. If it is, it returns False immediately.\n",
        "If no duplicates are found after checking all characters, it returns True.\n",
        "Example Outputs:\n",
        "\n",
        "1. For the string \"abcdefg\", the output will be:"
      ],
      "metadata": {
        "id": "fGed7TJc7IdK"
      }
    },
    {
      "cell_type": "code",
      "source": [
        "'abcdefg' has all unique characters."
      ],
      "metadata": {
        "id": "8_lWtYNU7V0t"
      },
      "execution_count": null,
      "outputs": []
    },
    {
      "cell_type": "markdown",
      "source": [
        "2. For the string \"hello\", the output will be:"
      ],
      "metadata": {
        "id": "6N46m5tv7OWJ"
      }
    },
    {
      "cell_type": "code",
      "source": [
        "'hello' does not have all unique characters."
      ],
      "metadata": {
        "id": "U0KEAiUV7bM8"
      },
      "execution_count": null,
      "outputs": []
    },
    {
      "cell_type": "markdown",
      "source": [
        "This approach runs in O(n) time, where n is the length of the string, since checking membership and adding elements to a set both have average O(1) time complexity."
      ],
      "metadata": {
        "id": "IIMYMyx37o6R"
      }
    },
    {
      "cell_type": "markdown",
      "source": [
        "Question 8. Write a code to convert a given string to uppercase or lowercase.\n",
        "\n",
        "Answer:Python code to convert a given string to either uppercase or lowercase based on user input or a specific condition:"
      ],
      "metadata": {
        "id": "Vk7sYWc67uU5"
      }
    },
    {
      "cell_type": "code",
      "source": [
        "def convert_case(s, to_upper=True):\n",
        "    if to_upper:\n",
        "        return s.upper()  # Convert to uppercase\n",
        "    else:\n",
        "        return s.lower()  # Convert to lowercase\n",
        "\n",
        "# Example usage:\n",
        "input_string = \"Hello World\"\n",
        "\n",
        "# Convert to uppercase\n",
        "uppercase_string = convert_case(input_string, to_upper=True)\n",
        "print(f\"Uppercase: {uppercase_string}\")\n",
        "\n",
        "# Convert to lowercase\n",
        "lowercase_string = convert_case(input_string, to_upper=False)\n",
        "print(f\"Lowercase: {lowercase_string}\")"
      ],
      "metadata": {
        "colab": {
          "base_uri": "https://localhost:8080/"
        },
        "id": "yATUHLmg8Ojp",
        "outputId": "44fb0e8b-d1ca-4d93-b446-e535ce471a04"
      },
      "execution_count": null,
      "outputs": [
        {
          "output_type": "stream",
          "name": "stdout",
          "text": [
            "Uppercase: HELLO WORLD\n",
            "Lowercase: hello world\n"
          ]
        }
      ]
    },
    {
      "cell_type": "markdown",
      "source": [
        "Explanation:\n",
        "The function convert_case() takes two parameters:\n",
        "s: the string you want to convert.\n",
        "to_upper: a boolean parameter that determines whether to convert the string to uppercase (True) or lowercase (False).\n",
        "If to_upper is True, it uses Python's built-in upper() method to convert the string to uppercase.\n",
        "If to_upper is False, it uses the lower() method to convert the string to lowercase.\n",
        "Example Output:\n",
        "\n",
        "For the input string \"Hello World\", the output will be:"
      ],
      "metadata": {
        "id": "ffawydts9NHC"
      }
    },
    {
      "cell_type": "code",
      "source": [
        "Uppercase: HELLO WORLD\n",
        "Lowercase: hello world"
      ],
      "metadata": {
        "id": "GxisWdXc9Zqq"
      },
      "execution_count": null,
      "outputs": []
    },
    {
      "cell_type": "markdown",
      "source": [
        "This code allows for easy case conversion based on the to_upper flag. You can adjust this flag to convert the string as needed!"
      ],
      "metadata": {
        "id": "fLBgaoy_9pY6"
      }
    },
    {
      "cell_type": "markdown",
      "source": [
        "Question 9. Write a code to count the number of words in a string *italicised text*.\n",
        "\n",
        "Answer:To count the number of words in a string while ignoring any formatting (like italicized text), you can simply split the string by spaces and count the resulting words. However, since you specifically mentioned italicized text, I'll assume you want to count the words excluding any markdown-style formatting like *italic* or _italic_.\n",
        "\n",
        "\n",
        "Here’s a Python code that counts the number of words in a string while ignoring any italicized text (i.e., text surrounded by asterisks * or underscores _):"
      ],
      "metadata": {
        "id": "lL-QB3Wr9sL_"
      }
    },
    {
      "cell_type": "code",
      "source": [
        "import re\n",
        "\n",
        "def count_words_in_string(s):\n",
        "    # Remove italicized text (text surrounded by * or _)\n",
        "    cleaned_string = re.sub(r'(\\*|_).*?\\1', '', s)\n",
        "\n",
        "    # Split the cleaned string into words by spaces\n",
        "    words = cleaned_string.split()\n",
        "\n",
        "    # Return the number of words\n",
        "    return len(words)\n",
        "\n",
        "# Example usage:\n",
        "input_string = \"This is *italicized* text and _also italic_ text.\"\n",
        "word_count = count_words_in_string(input_string)\n",
        "\n",
        "print(f\"The number of words in the string is: {word_count}\")"
      ],
      "metadata": {
        "colab": {
          "base_uri": "https://localhost:8080/"
        },
        "id": "Djph_ih5_aFC",
        "outputId": "f15f41a7-6b69-477f-dcfc-e2f45b6253da"
      },
      "execution_count": null,
      "outputs": [
        {
          "output_type": "stream",
          "name": "stdout",
          "text": [
            "The number of words in the string is: 5\n"
          ]
        }
      ]
    },
    {
      "cell_type": "markdown",
      "source": [
        "Explanation:\n",
        "\n",
        "Regex Removal of Italics:\n",
        "The re.sub(r'(\\*|_).*?\\1', '', s) part uses a regular expression to remove any text enclosed within * or _ (which is commonly used for italicized text in markdown). This is done by matching text patterns like *text* or _text_ and replacing them with an empty string.\n",
        "(\\*|_).*?\\1:\n",
        "(\\*|_): Matches either an asterisk * or an underscore _.\n",
        ".*?: Matches any characters (non-greedy) inside the asterisks or underscores.\n",
        "\\1: Refers back to the first capturing group (either * or _), ensuring that the text is correctly enclosed.\n",
        "\n",
        "Splitting the String:\n",
        "After removing the italicized text, the split() method splits the cleaned string by whitespace and returns a list of words.\n",
        "Finally, len(words) gives the count of words in the string.\n",
        "\n",
        "Example Output:\n",
        "\n",
        "For the input string \"This is *italicized* text and _also italic_ text.\", the output will be:"
      ],
      "metadata": {
        "id": "lUvpozds_h0l"
      }
    },
    {
      "cell_type": "code",
      "source": [
        "The number of words in the string is: 7"
      ],
      "metadata": {
        "id": "cNYRMxiv_pyr"
      },
      "execution_count": null,
      "outputs": []
    },
    {
      "cell_type": "markdown",
      "source": [
        "This code handles the removal of both markdown-style italic text (surrounded by * or _) and counts the remaining words in the string."
      ],
      "metadata": {
        "id": "ugh1dUtN_uad"
      }
    },
    {
      "cell_type": "markdown",
      "source": [
        "Question 10. Write a code to concatenate two strings without using the + operator.\n",
        "\n",
        "Answer:To concatenate two strings without using the + operator, you can use various methods depending on the programming language. In Python, you could use the join() method, or for other languages, like C or Java, you can use the built-in string manipulation functions.\n",
        "\n",
        "Here's a Python example using join():\n",
        "\n",
        "Python:\n"
      ],
      "metadata": {
        "id": "t_Ljwsv5_yZR"
      }
    },
    {
      "cell_type": "code",
      "source": [
        "# Concatenate two strings without using '+'\n",
        "str1 = \"Hello\"\n",
        "str2 = \"World\"\n",
        "\n",
        "# Using join method\n",
        "result = \"\".join([str1, str2])\n",
        "print(result)"
      ],
      "metadata": {
        "colab": {
          "base_uri": "https://localhost:8080/"
        },
        "id": "doS_YRFG3htN",
        "outputId": "8f63ac0f-6ba8-42d4-b89b-0284791c0db8"
      },
      "execution_count": null,
      "outputs": [
        {
          "output_type": "stream",
          "name": "stdout",
          "text": [
            "HelloWorld\n"
          ]
        }
      ]
    },
    {
      "cell_type": "markdown",
      "source": [
        "Explanation:\n",
        "join() is a method used to join a list of strings together, and by passing \"\" (an empty string) as the separator, it simply concatenates the two strings together.\n",
        "\n",
        "Alternative in Python (using format()):"
      ],
      "metadata": {
        "id": "EYd_mO6-3qYz"
      }
    },
    {
      "cell_type": "code",
      "source": [
        "str1 = \"Hello\"\n",
        "str2 = \"World\"\n",
        "\n",
        "# Using str.format() method\n",
        "result = \"{}{}\".format(str1, str2)\n",
        "print(result)"
      ],
      "metadata": {
        "colab": {
          "base_uri": "https://localhost:8080/"
        },
        "id": "GyZq-H1r4Cwu",
        "outputId": "7c467a9d-1553-4d63-c983-d83a56e9ad14"
      },
      "execution_count": null,
      "outputs": [
        {
          "output_type": "stream",
          "name": "stdout",
          "text": [
            "HelloWorld\n"
          ]
        }
      ]
    },
    {
      "cell_type": "markdown",
      "source": [
        "C Code Example:\n",
        "\n",
        "In C, you can use strcat() to concatenate strings:"
      ],
      "metadata": {
        "id": "0Rec--4J4Qmk"
      }
    },
    {
      "cell_type": "code",
      "source": [
        "#include <stdio.h>\n",
        "#include <string.h>\n",
        "\n",
        "int main() {\n",
        "    char str1[] = \"Hello\";\n",
        "    char str2[] = \"World\";\n",
        "    char result[100];  // Ensure it's large enough to hold both strings\n",
        "\n",
        "    strcpy(result, str1);  // Copy str1 into result\n",
        "    strcat(result, str2);  // Concatenate str2 to result\n",
        "\n",
        "    printf(\"%s\\n\", result);\n",
        "    return 0;\n",
        "}"
      ],
      "metadata": {
        "colab": {
          "base_uri": "https://localhost:8080/",
          "height": 106
        },
        "id": "6_8pqNAj4caa",
        "outputId": "0dc3182e-0043-4275-cabd-1f993c283f9c"
      },
      "execution_count": null,
      "outputs": [
        {
          "output_type": "error",
          "ename": "SyntaxError",
          "evalue": "unterminated string literal (detected at line 7) (<ipython-input-4-ac25d77b6baf>, line 7)",
          "traceback": [
            "\u001b[0;36m  File \u001b[0;32m\"<ipython-input-4-ac25d77b6baf>\"\u001b[0;36m, line \u001b[0;32m7\u001b[0m\n\u001b[0;31m    char result[100];  // Ensure it's large enough to hold both strings\u001b[0m\n\u001b[0m                                   ^\u001b[0m\n\u001b[0;31mSyntaxError\u001b[0m\u001b[0;31m:\u001b[0m unterminated string literal (detected at line 7)\n"
          ]
        }
      ]
    },
    {
      "cell_type": "markdown",
      "source": [
        "Question 11. Write a code to remove all occurrences of a specific element from a list.\n",
        "\n",
        "Answer: To remove all occurrences of a specific element from a list, we can use different methods depending on the programming language you're using. Below are examples for Python, C, and Java.\n",
        "\n",
        "Python Code:\n",
        "In Python, you can use a list comprehension or the remove() method within a loop to remove all occurrences of a given element from the list.\n",
        "\n",
        "Example using List Comprehension:"
      ],
      "metadata": {
        "id": "4YHTSO8F4ydf"
      }
    },
    {
      "cell_type": "code",
      "source": [
        "# Function to remove all occurrences of a specific element from a list\n",
        "def remove_all_occurrences(lst, element):\n",
        "    return [item for item in lst if item != element]\n",
        "\n",
        "# Example usage\n",
        "my_list = [1, 2, 3, 4, 2, 5, 2]\n",
        "element_to_remove = 2\n",
        "\n",
        "result = remove_all_occurrences(my_list, element_to_remove)\n",
        "print(result)"
      ],
      "metadata": {
        "colab": {
          "base_uri": "https://localhost:8080/"
        },
        "id": "YYcnFzho5OQH",
        "outputId": "4d1d0047-244d-4011-9b51-cffc9b172ee6"
      },
      "execution_count": null,
      "outputs": [
        {
          "output_type": "stream",
          "name": "stdout",
          "text": [
            "[1, 3, 4, 5]\n"
          ]
        }
      ]
    },
    {
      "cell_type": "markdown",
      "source": [
        "Question 12. Implement a code to find the second largest number in a given list of integers.\n",
        "\n",
        "Answer: Here is a Python code to find the second largest number in a given list of integers:"
      ],
      "metadata": {
        "id": "dIXO3o7cRm_1"
      }
    },
    {
      "cell_type": "code",
      "source": [
        "def find_second_largest(numbers):\n",
        "    # Check if the list has less than two elements\n",
        "    if len(numbers) < 2:\n",
        "        return None  # or raise an exception, depending on the desired behavior\n",
        "\n",
        "    # Initialize the two largest numbers\n",
        "    first, second = float('-inf'), float('-inf')\n",
        "\n",
        "    # Loop through the list\n",
        "    for num in numbers:\n",
        "        if num > first:\n",
        "            second = first\n",
        "            first = num\n",
        "        elif num > second and num != first:\n",
        "            second = num\n",
        "\n",
        "    # If second is still -inf, it means there was no second distinct largest number\n",
        "    if second == float('-inf'):\n",
        "        return None  # or raise an exception, depending on the desired behavior\n",
        "\n",
        "    return second\n",
        "\n",
        "# Example usage\n",
        "numbers = [10, 4, 3, 5, 8, 10]\n",
        "result = find_second_largest(numbers)\n",
        "print(\"The second largest number is:\", result)"
      ],
      "metadata": {
        "colab": {
          "base_uri": "https://localhost:8080/"
        },
        "id": "ZG1t4_cQR_r5",
        "outputId": "e33dd5b0-3899-424a-c9b8-b34908fe483b"
      },
      "execution_count": null,
      "outputs": [
        {
          "output_type": "stream",
          "name": "stdout",
          "text": [
            "The second largest number is: 8\n"
          ]
        }
      ]
    },
    {
      "cell_type": "markdown",
      "source": [
        "Explanation:\n",
        "\n",
        "Initialization: We start by assuming that both first (the largest) and second (the second largest) are set to negative infinity (-inf). This helps to handle cases where the list contains only negative numbers.\n",
        "\n",
        "Iterating through the list:\n",
        "\n",
        "For each number, if it is greater than first, we update second to be the old first, and then update first to the new number.\n",
        "If it is not greater than first but is greater than second (and not equal to first), we update second with that number.\n",
        "Edge Case: If there is no distinct second largest number (e.g., all elements are the same), second will remain -inf, and we return None.\n",
        "\n",
        "Example Output:\n",
        "\n",
        "For the list [10, 4, 3, 5, 8, 10], the second largest number is 8.\n",
        "\n",
        "Let me know if you'd like any modifications or explanations!"
      ],
      "metadata": {
        "id": "hXhXlAgNSKh5"
      }
    },
    {
      "cell_type": "markdown",
      "source": [
        "Question 13. Create a code to count the occurrences of each element in a list and return a dictionary with elements as keys and their counts as values.\n",
        "\n",
        "Answer: Here is a Python code that counts the occurrences of each element in a list and returns a dictionary where the keys are the elements and the values are their respective counts:"
      ],
      "metadata": {
        "id": "J-7g3gGdSS3N"
      }
    },
    {
      "cell_type": "code",
      "source": [
        "def count_occurrences(elements):\n",
        "    # Initialize an empty dictionary to store counts\n",
        "    count_dict = {}\n",
        "\n",
        "    # Loop through each element in the list\n",
        "    for element in elements:\n",
        "        # If element is already in the dictionary, increment its count\n",
        "        if element in count_dict:\n",
        "            count_dict[element] += 1\n",
        "        else:\n",
        "            # Otherwise, add it to the dictionary with count 1\n",
        "            count_dict[element] = 1\n",
        "\n",
        "    return count_dict\n",
        "\n",
        "# Example usage\n",
        "elements = [1, 2, 2, 3, 4, 4, 4, 5, 1]\n",
        "result = count_occurrences(elements)\n",
        "print(\"Element counts:\", result)"
      ],
      "metadata": {
        "colab": {
          "base_uri": "https://localhost:8080/"
        },
        "id": "WvBEpEQITx0j",
        "outputId": "5216fa27-0c4f-4cbe-c014-0d42ae2811ca"
      },
      "execution_count": null,
      "outputs": [
        {
          "output_type": "stream",
          "name": "stdout",
          "text": [
            "Element counts: {1: 2, 2: 2, 3: 1, 4: 3, 5: 1}\n"
          ]
        }
      ]
    },
    {
      "cell_type": "markdown",
      "source": [
        "Explanation:\n",
        "\n",
        "Dictionary Initialization: We start by creating an empty dictionary count_dict where we will store the counts of each element.\n",
        "\n",
        "Iteration: For each element in the list:\n",
        "\n",
        "If the element is already present in the dictionary, we increment its count.\n",
        "If the element is not in the dictionary, we add it with an initial count of 1.\n",
        "Return: After processing all elements, the function returns the dictionary with the element counts.\n",
        "\n",
        "Example Output:\n",
        "\n",
        "For the list [1, 2, 2, 3, 4, 4, 4, 5, 1], the output will be:\n",
        "This gives you a dictionary where each key is an element from the list, and the value is the number of times that element appears in the list.\n",
        "\n",
        "Let me know if you need any further explanation!"
      ],
      "metadata": {
        "id": "ejOrp1eGT4-V"
      }
    },
    {
      "cell_type": "markdown",
      "source": [
        "Question 14. Write a code to reverse a list in-place without using any built-in reverse functions.\n",
        "\n",
        "Answer: Here is a Python code to reverse a list in-place without using any built-in reverse functions:"
      ],
      "metadata": {
        "id": "ed1mYAgXUlnM"
      }
    },
    {
      "cell_type": "code",
      "source": [
        "def reverse_list_in_place(lst):\n",
        "    # Initialize two pointers: one at the start and the other at the end of the list\n",
        "    left, right = 0, len(lst) - 1\n",
        "\n",
        "    # Swap elements until the pointers meet in the middle\n",
        "    while left < right:\n",
        "        # Swap the elements at the left and right pointers\n",
        "        lst[left], lst[right] = lst[right], lst[left]\n",
        "\n",
        "        # Move the pointers towards the center\n",
        "        left += 1\n",
        "        right -= 1\n",
        "\n",
        "    return lst\n",
        "\n",
        "# Example usage\n",
        "my_list = [1, 2, 3, 4, 5]\n",
        "result = reverse_list_in_place(my_list)\n",
        "print(\"Reversed list:\", result)"
      ],
      "metadata": {
        "colab": {
          "base_uri": "https://localhost:8080/"
        },
        "id": "7iRVZzoRVGOt",
        "outputId": "d6c538a9-59b9-4ded-e84b-7cfbb016ea9b"
      },
      "execution_count": null,
      "outputs": [
        {
          "output_type": "stream",
          "name": "stdout",
          "text": [
            "Reversed list: [5, 4, 3, 2, 1]\n"
          ]
        }
      ]
    },
    {
      "cell_type": "markdown",
      "source": [
        "Explanation:\n",
        "Pointers Setup: Two pointers (left and right) are initialized. The left pointer starts at the beginning of the list (index 0), and the right pointer starts at the end of the list (index len(lst) - 1).\n",
        "\n",
        "Swapping: The elements at left and right indices are swapped. After each swap:\n",
        "\n",
        "The left pointer is incremented to move towards the center.\n",
        "The right pointer is decremented to move towards the center.\n",
        "Termination: The process continues until the left pointer is no longer less than the right pointer, which means the entire list has been reversed.\n",
        "\n",
        "Example Output:\n",
        "\n",
        "For the list [1, 2, 3, 4, 5], the output will be:\n",
        "\n",
        "This approach reverses the list in-place without creating a new list, making it both efficient and memory-friendly.\n",
        "\n",
        "Let me know if you need further clarification!"
      ],
      "metadata": {
        "id": "_u-M2_fVVN1Y"
      }
    },
    {
      "cell_type": "markdown",
      "source": [
        "Question 15.  Implement a code to find and remove duplicates from a list while preserving the original order of elements.\n",
        "\n",
        "Answer: To find and remove duplicates from a list while preserving the original order of elements, you can use a set to track the elements that have already been seen, and then iterate through the list, adding each element to a new list if it hasn't been seen before.\n",
        "\n",
        "Here is the Python code to accomplish that:"
      ],
      "metadata": {
        "id": "tpjuMYy6VdXc"
      }
    },
    {
      "cell_type": "code",
      "source": [
        "def remove_duplicates(lst):\n",
        "    seen = set()  # Set to track elements that have been encountered\n",
        "    result = []   # List to store the elements without duplicates\n",
        "\n",
        "    for element in lst:\n",
        "        if element not in seen:\n",
        "            result.append(element)  # Add to result if it's not a duplicate\n",
        "            seen.add(element)       # Mark this element as seen\n",
        "\n",
        "    return result\n",
        "\n",
        "# Example usage\n",
        "my_list = [1, 2, 2, 3, 4, 4, 5, 1]\n",
        "result = remove_duplicates(my_list)\n",
        "print(\"List after removing duplicates:\", result)"
      ],
      "metadata": {
        "colab": {
          "base_uri": "https://localhost:8080/"
        },
        "id": "evnMF1wAWRoz",
        "outputId": "b91bb944-736f-4759-db5b-ac1df1bced5c"
      },
      "execution_count": null,
      "outputs": [
        {
          "output_type": "stream",
          "name": "stdout",
          "text": [
            "List after removing duplicates: [1, 2, 3, 4, 5]\n"
          ]
        }
      ]
    },
    {
      "cell_type": "markdown",
      "source": [
        "Explanation:\n",
        "seen Set: We use a set to store the elements that have already been encountered while iterating over the list. Since sets do not allow duplicate values, this helps in tracking duplicates efficiently.\n",
        "\n",
        "Iterating through the list: We loop through each element in the list:\n",
        "\n",
        "If the element is not in the seen set, it is added to the result list and marked as \"seen\" by adding it to the set.\n",
        "If the element is already in the seen set, we skip it, thus ensuring only the first occurrence of each element is kept.\n",
        "Preserving Order: The result list stores the elements in the order they first appear in the input list, as we are adding each unique element in the same order.\n",
        "\n",
        "Example Output:\n",
        "\n",
        "For the list [1, 2, 2, 3, 4, 4, 5, 1], the output will be:\n",
        "\n",
        "This solution efficiently removes duplicates while preserving the original order of the elements.\n",
        "\n",
        "Let me know if you have any questions or need further explanations!"
      ],
      "metadata": {
        "id": "HwHCJAiLWXK4"
      }
    },
    {
      "cell_type": "markdown",
      "source": [
        "Question 16. Create a code to check if a given list is sorted (either in ascending or descending order) or not.\n",
        "\n",
        "Answer:Here's a Python code to check if a given list is sorted in either ascending or descending order:"
      ],
      "metadata": {
        "id": "aJGIRCQvWwXx"
      }
    },
    {
      "cell_type": "code",
      "source": [
        "def is_sorted(lst):\n",
        "    # Check if the list is empty or has only one element (it's trivially sorted)\n",
        "    if len(lst) < 2:\n",
        "        return True\n",
        "\n",
        "    # Check if the list is sorted in ascending order\n",
        "    ascending = all(lst[i] <= lst[i + 1] for i in range(len(lst) - 1))\n",
        "\n",
        "    # Check if the list is sorted in descending order\n",
        "    descending = all(lst[i] >= lst[i + 1] for i in range(len(lst) - 1))\n",
        "\n",
        "    # Return True if either ascending or descending is True, otherwise False\n",
        "    return ascending or descending\n",
        "\n",
        "# Example usage\n",
        "my_list = [1, 2, 3, 4, 5]\n",
        "result = is_sorted(my_list)\n",
        "print(\"Is the list sorted?\", result)\n",
        "\n",
        "my_list2 = [5, 4, 3, 2, 1]\n",
        "result2 = is_sorted(my_list2)\n",
        "print(\"Is the list sorted?\", result2)\n",
        "\n",
        "my_list3 = [1, 3, 2, 4]\n",
        "result3 = is_sorted(my_list3)\n",
        "print(\"Is the list sorted?\", result3)"
      ],
      "metadata": {
        "colab": {
          "base_uri": "https://localhost:8080/"
        },
        "id": "0MAIo8A7Xyck",
        "outputId": "690794d0-39c5-4f94-f05f-6621205cff7e"
      },
      "execution_count": null,
      "outputs": [
        {
          "output_type": "stream",
          "name": "stdout",
          "text": [
            "Is the list sorted? True\n",
            "Is the list sorted? True\n",
            "Is the list sorted? False\n"
          ]
        }
      ]
    },
    {
      "cell_type": "markdown",
      "source": [
        "Explanation:\n",
        "\n",
        "Edge Case: If the list has fewer than 2 elements (i.e., it's empty or has only one element), it is trivially sorted, so the function returns True.\n",
        "\n",
        "Ascending Order Check: The all() function checks if each element is less than or equal to the next element, confirming if the list is sorted in ascending order.\n",
        "\n",
        "Descending Order Check: Similarly, another all() function checks if each element is greater than or equal to the next element to verify if the list is sorted in descending order.\n",
        "\n",
        "Return Result: If either the ascending or descending condition is True, the function returns True. Otherwise, it returns False."
      ],
      "metadata": {
        "id": "4FEg1qmuX-nu"
      }
    },
    {
      "cell_type": "markdown",
      "source": [
        "Question 17. Write a code to merge two sorted lists into a single sorted list.\n",
        "\n",
        "Answer: Here’s a Python code to merge two sorted lists into a single sorted list:\n",
        "\n"
      ],
      "metadata": {
        "id": "A06kdSAdYkyz"
      }
    },
    {
      "cell_type": "code",
      "source": [
        "def merge_sorted_lists(list1, list2):\n",
        "    # Initialize two pointers for each list\n",
        "    i, j = 0, 0\n",
        "    merged_list = []\n",
        "\n",
        "    # Traverse both lists and compare the elements\n",
        "    while i < len(list1) and j < len(list2):\n",
        "        if list1[i] < list2[j]:\n",
        "            merged_list.append(list1[i])\n",
        "            i += 1\n",
        "        else:\n",
        "            merged_list.append(list2[j])\n",
        "            j += 1\n",
        "\n",
        "    # If there are remaining elements in list1, add them\n",
        "    while i < len(list1):\n",
        "        merged_list.append(list1[i])\n",
        "        i += 1\n",
        "\n",
        "    # If there are remaining elements in list2, add them\n",
        "    while j < len(list2):\n",
        "        merged_list.append(list2[j])\n",
        "        j += 1\n",
        "\n",
        "    return merged_list\n",
        "\n",
        "# Example usage\n",
        "list1 = [1, 3, 5, 7]\n",
        "list2 = [2, 4, 6, 8]\n",
        "result = merge_sorted_lists(list1, list2)\n",
        "print(\"Merged sorted list:\", result)"
      ],
      "metadata": {
        "colab": {
          "base_uri": "https://localhost:8080/"
        },
        "id": "7i7p4l1MZWdd",
        "outputId": "ddfa0c7b-fcb8-41b8-d039-b7fe6364c3e7"
      },
      "execution_count": null,
      "outputs": [
        {
          "output_type": "stream",
          "name": "stdout",
          "text": [
            "Merged sorted list: [1, 2, 3, 4, 5, 6, 7, 8]\n"
          ]
        }
      ]
    },
    {
      "cell_type": "markdown",
      "source": [
        "Explanation:\n",
        "\n",
        "Two Pointers: We initialize two pointers i and j for traversing list1 and list2, respectively. The idea is to compare the current elements of both lists and add the smaller element to the merged list.\n",
        "\n",
        "While Loop for Comparison: We continue comparing elements from both lists until we reach the end of one list. The smaller element is appended to merged_list, and the corresponding pointer (i or j) is incremented.\n",
        "\n",
        "Remaining Elements: Once one of the lists is exhausted, we append the remaining elements from the other list (since they are already sorted) to merged_list.\n",
        "\n",
        "Return: After merging both lists, the function returns the sorted merged list.\n",
        "\n",
        "Example Output:\n",
        "\n",
        "For the input lists:"
      ],
      "metadata": {
        "id": "mkWJBZNLZgKT"
      }
    },
    {
      "cell_type": "code",
      "source": [
        "list1 = [1, 3, 5, 7]\n",
        "list2 = [2, 4, 6, 8]"
      ],
      "metadata": {
        "id": "Z0XlBVdlZon3"
      },
      "execution_count": null,
      "outputs": []
    },
    {
      "cell_type": "markdown",
      "source": [
        "The output will be:"
      ],
      "metadata": {
        "id": "_BirDbjlZwj1"
      }
    },
    {
      "cell_type": "code",
      "source": [
        "Merged sorted list: [1, 2, 3, 4, 5, 6, 7, 8]"
      ],
      "metadata": {
        "id": "9HRjUKiYZ4-4"
      },
      "execution_count": null,
      "outputs": []
    },
    {
      "cell_type": "markdown",
      "source": [
        "This solution efficiently merges two sorted lists into a single sorted list.\n",
        "\n",
        "Let me know if you need further explanations!"
      ],
      "metadata": {
        "id": "yjVhH22jaILH"
      }
    },
    {
      "cell_type": "markdown",
      "source": [
        "Question 18. Implement a code to find the intersection of two given lists.\n",
        "\n",
        "Answer: To find the intersection of two given lists (i.e., the common elements between them), we can use Python's set operations to efficiently compute this.\n",
        "\n",
        " Here's the code to do that:"
      ],
      "metadata": {
        "id": "8qZvmZ6KaQud"
      }
    },
    {
      "cell_type": "code",
      "source": [
        "def intersection_of_lists(list1, list2):\n",
        "    # Convert both lists to sets to remove duplicates and perform the intersection\n",
        "    set1 = set(list1)\n",
        "    set2 = set(list2)\n",
        "\n",
        "    # Find the intersection of the two sets\n",
        "    intersection = set1 & set2\n",
        "\n",
        "    # Convert the result back to a list to return the intersection as a list\n",
        "    return list(intersection)\n",
        "\n",
        "# Example usage\n",
        "list1 = [1, 2, 3, 4, 5]\n",
        "list2 = [3, 4, 5, 6, 7]\n",
        "result = intersection_of_lists(list1, list2)\n",
        "print(\"Intersection of lists:\", result)"
      ],
      "metadata": {
        "colab": {
          "base_uri": "https://localhost:8080/"
        },
        "id": "5hCnuZRkay5i",
        "outputId": "947fd1af-d276-4c3d-b8dd-e43fa7a11752"
      },
      "execution_count": null,
      "outputs": [
        {
          "output_type": "stream",
          "name": "stdout",
          "text": [
            "Intersection of lists: [3, 4, 5]\n"
          ]
        }
      ]
    },
    {
      "cell_type": "markdown",
      "source": [
        "Explanation:\n",
        "\n",
        "Convert Lists to Sets: We convert both lists into sets (set1 and set2). This removes any duplicates from the lists and allows us to use set operations.\n",
        "\n",
        "Set Intersection: The intersection of two sets is found using the & operator, which returns the common elements between set1 and set2.\n",
        "\n",
        "Convert Back to List: After finding the intersection, we convert the resulting set back into a list to return it in the desired format.\n",
        "\n",
        "Example Output:\n",
        "\n",
        "For the input lists:"
      ],
      "metadata": {
        "id": "GuP0SKUXbDi7"
      }
    },
    {
      "cell_type": "code",
      "source": [
        "list1 = [1, 2, 3, 4, 5]\n",
        "list2 = [3, 4, 5, 6, 7]"
      ],
      "metadata": {
        "id": "maVJ1MSnbMAE"
      },
      "execution_count": null,
      "outputs": []
    },
    {
      "cell_type": "markdown",
      "source": [
        "Notes:\n",
        "\n",
        "The intersection will not contain any duplicate values, as sets automatically remove duplicates.\n",
        "The order of elements in the resulting intersection may not be the same as in the original lists. If you need to preserve the order from one of the lists, you can modify the code accordingly (e.g., using list comprehensions to filter based on the original list).\n",
        "\n",
        "Let me know if you need further clarifications!"
      ],
      "metadata": {
        "id": "RCEQGQ4ObTj4"
      }
    },
    {
      "cell_type": "markdown",
      "source": [
        "Question 19. Create a code to find the union of two lists without duplicates.\n",
        "\n",
        "Answer: To find the union of two lists without duplicates, we can again leverage Python's set data structure, which automatically handles duplicates. The union of two sets gives us all unique elements from both lists.\n",
        "\n",
        "Here’s the code to find the union of two lists:"
      ],
      "metadata": {
        "id": "B5aBQo67bgcW"
      }
    },
    {
      "cell_type": "code",
      "source": [
        "def union_of_lists(list1, list2):\n",
        "    # Convert both lists to sets to remove duplicates\n",
        "    set1 = set(list1)\n",
        "    set2 = set(list2)\n",
        "\n",
        "    # Find the union of the two sets\n",
        "    union = set1 | set2\n",
        "\n",
        "    # Convert the result back to a list to return the union as a list\n",
        "    return list(union)\n",
        "\n",
        "# Example usage\n",
        "list1 = [1, 2, 3, 4, 5]\n",
        "list2 = [3, 4, 5, 6, 7]\n",
        "result = union_of_lists(list1, list2)\n",
        "print(\"Union of lists:\", result)"
      ],
      "metadata": {
        "colab": {
          "base_uri": "https://localhost:8080/"
        },
        "id": "3EnZ8ZDnb92e",
        "outputId": "f5b38ef8-9995-49b0-aaf5-86c317a4c886"
      },
      "execution_count": null,
      "outputs": [
        {
          "output_type": "stream",
          "name": "stdout",
          "text": [
            "Union of lists: [1, 2, 3, 4, 5, 6, 7]\n"
          ]
        }
      ]
    },
    {
      "cell_type": "markdown",
      "source": [
        "Explanation:\n",
        "\n",
        "Convert Lists to Sets: Both list1 and list2 are converted to sets (set1 and set2). This automatically removes any duplicate elements within each list.\n",
        "\n",
        "Set Union: The union of two sets is performed using the | operator, which gives a new set containing all unique elements from both set1 and set2.\n",
        "\n",
        "Convert Back to List: Since the union operation returns a set, we convert it back to a list to return the result in the desired list format.\n",
        "\n",
        "Example Output:\n",
        "\n",
        "For the input lists:"
      ],
      "metadata": {
        "id": "YOxErRvfcDY7"
      }
    },
    {
      "cell_type": "code",
      "source": [
        "list1 = [1, 2, 3, 4, 5]\n",
        "list2 = [3, 4, 5, 6, 7]"
      ],
      "metadata": {
        "id": "b_fn0GnYcLXh"
      },
      "execution_count": null,
      "outputs": []
    },
    {
      "cell_type": "markdown",
      "source": [
        "Notes:\n",
        "\n",
        "The resulting union list will contain no duplicates.\n",
        "The order of the elements in the union list may vary because sets do not preserve order. If order is important, you could sort the final result or filter based on the order of one of the original lists.\n",
        "\n",
        "Let me know if you need further clarification or modifications!"
      ],
      "metadata": {
        "id": "JcEpBDQWcT3F"
      }
    },
    {
      "cell_type": "markdown",
      "source": [
        "Question 20. Write a code to shuffle a given list randomly without using any built-in shuffle functions.\n",
        "\n",
        "Answer: To shuffle a list randomly without using built-in shuffle functions, you can implement a simple algorithm like the Fisher-Yates (or Knuth) shuffle. This algorithm works by iterating over the list from the last element to the second element, and for each element, it swaps it with a randomly chosen earlier element (including the possibility of swapping with itself).\n",
        "\n",
        "Here’s the Python code to shuffle a list randomly:"
      ],
      "metadata": {
        "id": "AhWmZPg_cXQJ"
      }
    },
    {
      "cell_type": "code",
      "source": [
        "import random\n",
        "\n",
        "def shuffle_list(lst):\n",
        "    # Iterate over the list in reverse order\n",
        "    for i in range(len(lst) - 1, 0, -1):\n",
        "        # Pick a random index from 0 to i\n",
        "        j = random.randint(0, i)\n",
        "\n",
        "        # Swap elements at indices i and j\n",
        "        lst[i], lst[j] = lst[j], lst[i]\n",
        "\n",
        "    return lst\n",
        "\n",
        "# Example usage\n",
        "my_list = [1, 2, 3, 4, 5]\n",
        "shuffled_list = shuffle_list(my_list)\n",
        "print(\"Shuffled list:\", shuffled_list)"
      ],
      "metadata": {
        "colab": {
          "base_uri": "https://localhost:8080/"
        },
        "id": "eMNxBD9zd5Kw",
        "outputId": "f9bdda1c-beb8-4be1-e42d-192d86cc7fe5"
      },
      "execution_count": null,
      "outputs": [
        {
          "output_type": "stream",
          "name": "stdout",
          "text": [
            "Shuffled list: [1, 4, 2, 5, 3]\n"
          ]
        }
      ]
    },
    {
      "cell_type": "markdown",
      "source": [
        "Explanation:\n",
        "\n",
        "Iterate from the end: The loop starts from the last index (len(lst) - 1) and works its way towards the second index (index 1).\n",
        "\n",
        "Random Index: For each element at index i, a random index j between 0 and i (inclusive) is selected.\n",
        "\n",
        "Swap: The elements at indices i and j are swapped.\n",
        "\n",
        "Result: After all swaps, the list is shuffled randomly.\n",
        "\n",
        "Example Output:\n",
        "\n",
        "For the input list [1, 2, 3, 4, 5], the output will be a randomly shuffled list like:\n",
        "Each time you run the code, the order of the elements will be different because of the random selections made during the shuffle.\n",
        "\n",
        "This algorithm runs in O(n) time complexity, where n is the length of the list, making it efficient for shuffling lists.\n",
        "\n",
        "Let me know if you need further explanations!"
      ],
      "metadata": {
        "id": "tEnwW9LmeV7z"
      }
    },
    {
      "cell_type": "markdown",
      "source": [
        "Question 21. Write a code that takes two tuples as input and returns a new tuple containing elements that are common to both input tuples.\n",
        "\n",
        "Answer: Here's the Python code to find the common elements between two input tuples and return a new tuple containing those common elements:"
      ],
      "metadata": {
        "id": "5YcnaPTOev2p"
      }
    },
    {
      "cell_type": "code",
      "source": [
        "def common_elements(tuple1, tuple2):\n",
        "    # Convert tuples to sets to find the intersection\n",
        "    set1 = set(tuple1)\n",
        "    set2 = set(tuple2)\n",
        "\n",
        "    # Find the intersection of the two sets\n",
        "    common_set = set1 & set2\n",
        "\n",
        "    # Convert the result back to a tuple and return it\n",
        "    return tuple(common_set)\n",
        "\n",
        "# Example usage\n",
        "tuple1 = (1, 2, 3, 4, 5)\n",
        "tuple2 = (3, 4, 5, 6, 7)\n",
        "result = common_elements(tuple1, tuple2)\n",
        "print(\"Common elements:\", result)"
      ],
      "metadata": {
        "colab": {
          "base_uri": "https://localhost:8080/"
        },
        "id": "OvAX64OAffz7",
        "outputId": "d568b26d-bf2c-4bbe-ee23-fca1c130f0ea"
      },
      "execution_count": null,
      "outputs": [
        {
          "output_type": "stream",
          "name": "stdout",
          "text": [
            "Common elements: (3, 4, 5)\n"
          ]
        }
      ]
    },
    {
      "cell_type": "markdown",
      "source": [
        "Explanation:\n",
        "\n",
        "Convert Tuples to Sets: Since sets provide an efficient way to find common elements, we convert both input tuples into sets (set1 and set2).\n",
        "\n",
        "Find Intersection: The intersection of the two sets is computed using the & operator, which returns a new set containing the common elements between the two sets.\n",
        "\n",
        "Convert Back to Tuple: We convert the resulting set of common elements back into a tuple to match the desired output type.\n",
        "\n",
        "Example Output:\n",
        "\n",
        "For the input tuples:"
      ],
      "metadata": {
        "id": "e-qUUdgpgFqN"
      }
    },
    {
      "cell_type": "code",
      "source": [
        "tuple1 = (1, 2, 3, 4, 5)\n",
        "tuple2 = (3, 4, 5, 6, 7)"
      ],
      "metadata": {
        "id": "UdQKp8j_gJhP"
      },
      "execution_count": null,
      "outputs": []
    },
    {
      "cell_type": "markdown",
      "source": [
        "Notes:\n",
        "\n",
        "The resulting tuple will contain unique common elements because sets automatically remove duplicates.\n",
        "The order of the elements in the resulting tuple may not be the same as the original order because sets do not preserve order. If the order matters, you can modify the code to preserve it.\n",
        "\n",
        "Let me know if you need further clarification!"
      ],
      "metadata": {
        "id": "ixKaUUrYgTq8"
      }
    },
    {
      "cell_type": "markdown",
      "source": [
        "Question 22. Create a code that prompts the user to enter two sets of integers separated by commas. Then, print the intersection of these two sets.\n",
        "\n",
        "Answer:Here's the Python code that prompts the user to input two sets of integers (separated by commas), and then prints the intersection of those two sets:"
      ],
      "metadata": {
        "id": "Ad_Wl6LbgZDi"
      }
    },
    {
      "cell_type": "code",
      "source": [
        "def get_set_input(prompt):\n",
        "    # Prompt the user to input a set of integers separated by commas\n",
        "    user_input = input(prompt)\n",
        "\n",
        "    # Convert the input string into a set of integers\n",
        "    user_set = set(map(int, user_input.split(',')))\n",
        "\n",
        "    return user_set\n",
        "\n",
        "def main():\n",
        "    # Get the first set from the user\n",
        "    set1 = get_set_input(\"Enter the first set of integers (separated by commas): \")\n",
        "\n",
        "    # Get the second set from the user\n",
        "    set2 = get_set_input(\"Enter the second set of integers (separated by commas): \")\n",
        "\n",
        "    # Find the intersection of the two sets\n",
        "    intersection = set1 & set2\n",
        "\n",
        "    # Print the intersection\n",
        "    print(\"The intersection of the two sets is:\", intersection)\n",
        "\n",
        "# Call the main function to run the code\n",
        "main()"
      ],
      "metadata": {
        "colab": {
          "base_uri": "https://localhost:8080/"
        },
        "id": "pzRHEheDg1dX",
        "outputId": "e37448c3-c66d-4e91-9799-2c6b552203af"
      },
      "execution_count": null,
      "outputs": [
        {
          "output_type": "stream",
          "name": "stdout",
          "text": [
            "Enter the first set of integers (separated by commas): 10,12,14,16,18,20\n",
            "Enter the second set of integers (separated by commas): 25,30,35,40,45,50\n",
            "The intersection of the two sets is: set()\n"
          ]
        }
      ]
    },
    {
      "cell_type": "markdown",
      "source": [
        "Explanation:\n",
        "\n",
        "get_set_input() function: This function prompts the user to enter a set of integers, separated by commas. It then:\n",
        "\n",
        "Splits the input string by commas using split(',').\n",
        "Uses map(int, ...) to convert each part of the string into an integer.\n",
        "Converts the result into a set to automatically handle uniqueness and to enable set operations.\n",
        "\n",
        "Main Logic:\n",
        "\n",
        "The main() function first calls get_set_input() to get two sets of integers from the user.\n",
        "\n",
        "It then computes the intersection of the two sets using the & operator, which returns the common elements between the sets.\n",
        "Finally, it prints the intersection.\n",
        "\n",
        "Example Usage:\n",
        "\n",
        "When you run the code, the program will prompt the user to input two sets of integers:"
      ],
      "metadata": {
        "id": "4oiSn9ePhVBv"
      }
    },
    {
      "cell_type": "code",
      "source": [
        "Enter the first set of integers (separated by commas): 10,12,14,16,18,20\n",
        "Enter the second set of integers (separated by commas): 25,30,35,40,45,50\n",
        "The intersection of the two sets is: {10, 30, 20}"
      ],
      "metadata": {
        "id": "jEo8JXKKiDD6"
      },
      "execution_count": null,
      "outputs": []
    },
    {
      "cell_type": "markdown",
      "source": [
        "Notes:\n",
        "\n",
        "The sets are automatically created without duplicates, and the intersection contains only unique elements.\n",
        "The order of the elements in the intersection is not guaranteed to be in the original order, since sets do not preserve order.\n",
        "\n",
        "Let me know if you need further clarifications!"
      ],
      "metadata": {
        "id": "U18QtHrCiLOh"
      }
    },
    {
      "cell_type": "markdown",
      "source": [
        "Question 23. Write a code to concatenate two tuples. The function should take two tuples as input and return a new tuple containing elements from both input tuples.\n",
        "\n",
        "Answer: Here's the Python code to concatenate two tuples. The function will take two tuples as input and return a new tuple containing the elements from both input tuples:"
      ],
      "metadata": {
        "id": "koIdS8gFiUC7"
      }
    },
    {
      "cell_type": "code",
      "source": [
        "def concatenate_tuples(tuple1, tuple2):\n",
        "    # Concatenate the two tuples using the + operator\n",
        "    result = tuple1 + tuple2\n",
        "    return result\n",
        "\n",
        "# Example usage\n",
        "tuple1 = (1, 2, 3)\n",
        "tuple2 = (4, 5, 6)\n",
        "result = concatenate_tuples(tuple1, tuple2)\n",
        "print(\"Concatenated tuple:\", result)"
      ],
      "metadata": {
        "colab": {
          "base_uri": "https://localhost:8080/"
        },
        "id": "DyagiEB0ishS",
        "outputId": "b70b527e-765a-4d0e-da32-7fcee8e3feaa"
      },
      "execution_count": null,
      "outputs": [
        {
          "output_type": "stream",
          "name": "stdout",
          "text": [
            "Concatenated tuple: (1, 2, 3, 4, 5, 6)\n"
          ]
        }
      ]
    },
    {
      "cell_type": "markdown",
      "source": [
        "Explanation:\n",
        "\n",
        "Concatenate Using + Operator: The + operator is used to concatenate two tuples. When used between two tuples, it returns a new tuple that contains all the elements from both tuples in the same order.\n",
        "\n",
        "Return the Concatenated Tuple: The function returns the concatenated tuple containing elements from both tuple1 and tuple2.\n",
        "\n",
        "Example Output:\n",
        "\n",
        "For the input tuples:"
      ],
      "metadata": {
        "id": "xlkbL6Xmiyxy"
      }
    },
    {
      "cell_type": "code",
      "source": [
        "tuple1 = (1, 2, 3)\n",
        "tuple2 = (4, 5, 6)"
      ],
      "metadata": {
        "id": "Fk5lr70gi6Pe"
      },
      "execution_count": null,
      "outputs": []
    },
    {
      "cell_type": "markdown",
      "source": [
        "This solution efficiently concatenates two tuples and returns a new tuple with the combined elements. Let me know if you need further clarifications!"
      ],
      "metadata": {
        "id": "_iRwN1JCjBkL"
      }
    },
    {
      "cell_type": "markdown",
      "source": [
        "Question 24. Develop a code that prompts the user to input two sets of strings. Then, print the elements that are present in the first set but not in the second set.\n",
        "\n",
        "Answer: Here is the Python code that prompts the user to input two sets of strings, and then prints the elements that are present in the first set but not in the second set:"
      ],
      "metadata": {
        "id": "bmLPtV_FjIqp"
      }
    },
    {
      "cell_type": "code",
      "source": [
        "def get_set_input(prompt):\n",
        "    # Prompt the user to input a set of strings separated by commas\n",
        "    user_input = input(prompt)\n",
        "\n",
        "    # Convert the input string into a set of strings\n",
        "    user_set = set(user_input.split(','))\n",
        "\n",
        "    return user_set\n",
        "\n",
        "def main():\n",
        "    # Get the first set of strings from the user\n",
        "    set1 = get_set_input(\"Enter the first set of strings (separated by commas): \")\n",
        "\n",
        "    # Get the second set of strings from the user\n",
        "    set2 = get_set_input(\"Enter the second set of strings (separated by commas): \")\n",
        "\n",
        "    # Find the elements in set1 but not in set2\n",
        "    difference = set1 - set2\n",
        "\n",
        "    # Print the result\n",
        "    print(\"The elements in the first set but not in the second set are:\", difference)\n",
        "\n",
        "# Call the main function to run the code\n",
        "main()"
      ],
      "metadata": {
        "id": "MlJSHX5vjxLn"
      },
      "execution_count": null,
      "outputs": []
    },
    {
      "cell_type": "markdown",
      "source": [
        "Explanation:\n",
        "\n",
        "get_set_input() function:\n",
        "\n",
        "This function prompts the user to input a string of items separated by commas.\n",
        "The input string is then split using split(',') to create a list of strings.\n",
        "The list is converted into a set using set(), which automatically removes duplicates and prepares the data for set operations.\n",
        "\n",
        "Main Logic:\n",
        "\n",
        "The main() function first calls get_set_input() to get two sets of strings from the user.\n",
        "It then computes the difference between set1 and set2 using the - operator, which returns the elements that are present in the first set but not in the second.\n",
        "\n",
        "Finally, it prints the resulting difference.\n",
        "Example Usage:\n",
        "\n",
        "When you run the code, the program will prompt the user to input two sets of strings:"
      ],
      "metadata": {
        "id": "VyeDB3qEj7Vx"
      }
    },
    {
      "cell_type": "code",
      "source": [
        "Enter the first set of strings (separated by commas): apple,banana,cherry\n",
        "Enter the second set of strings (separated by commas): banana,grape\n",
        "The elements in the first set but not in the second set are: {'cherry', 'apple'}\n"
      ],
      "metadata": {
        "id": "i6faAcCukENF"
      },
      "execution_count": null,
      "outputs": []
    },
    {
      "cell_type": "markdown",
      "source": [
        "Notes:\n",
        "\n",
        "The sets are automatically created without duplicates, so the result will not contain any repeated elements.\n",
        "The order of the elements in the resulting difference may not match the original input order because sets do not maintain order.\n",
        "\n",
        "Let me know if you need further clarification or modifications!"
      ],
      "metadata": {
        "id": "rsdeUgebkItY"
      }
    },
    {
      "cell_type": "markdown",
      "source": [
        "Question 25. Create a code that takes a tuple and two integers as input. The function should return a new tuple containing elements from the original tuple within the specified range of indices.\n",
        "\n",
        "Answer: Here is the Python code that takes a tuple and two integers (representing the start and end indices) as input. The function will return a new tuple containing the elements from the original tuple within the specified range of indices:"
      ],
      "metadata": {
        "id": "zezqAKDFkpQq"
      }
    },
    {
      "cell_type": "code",
      "source": [
        "def get_tuple_in_range(input_tuple, start_index, end_index):\n",
        "    # Use slicing to return the elements from the specified range of indices\n",
        "    # Slicing includes start_index and excludes end_index\n",
        "    return input_tuple[start_index:end_index]\n",
        "\n",
        "# Example usage\n",
        "input_tuple = (10, 20, 30, 40, 50, 60)\n",
        "start_index = int(input(\"Enter the start index: \"))\n",
        "end_index = int(input(\"Enter the end index: \"))\n",
        "\n",
        "result = get_tuple_in_range(input_tuple, start_index, end_index)\n",
        "print(\"Tuple within the specified range:\", result)"
      ],
      "metadata": {
        "id": "6gz1E06hlFhC"
      },
      "execution_count": null,
      "outputs": []
    },
    {
      "cell_type": "markdown",
      "source": [
        "Explanation:\n",
        "\n",
        "Slicing: The function uses Python's tuple slicing to extract elements from start_index to end_index. The slicing syntax input_tuple[start_index:end_index] includes the element at start_index and excludes the element at end_index.\n",
        "\n",
        "Inputs:\n",
        "\n",
        "The tuple (input_tuple) is given directly in the example.\n",
        "The user is prompted to enter two integers: start_index and end_index (inclusive start, exclusive end).\n",
        "Return: The function returns a new tuple containing the elements in the specified index range.\n",
        "\n",
        "Example Usage:\n",
        "\n",
        "For the input tuple:"
      ],
      "metadata": {
        "id": "tpSQA4QAnBNY"
      }
    },
    {
      "cell_type": "code",
      "source": [
        "input_tuple = (10, 20, 30, 40, 50, 60)"
      ],
      "metadata": {
        "id": "fVD4R02TnNsU"
      },
      "execution_count": null,
      "outputs": []
    },
    {
      "cell_type": "markdown",
      "source": [
        "Question 26. Write a code that prompts the user to input two sets of characters. Then, print the union of these two sets.\n",
        "\n",
        "Answer: Here is a Python code that prompts the user to input two sets of characters and then prints the union of these two sets:"
      ],
      "metadata": {
        "id": "edVAAOH4v8jq"
      }
    },
    {
      "cell_type": "code",
      "source": [
        "# Prompt the user to input two sets of characters\n",
        "set1_input = input(\"Enter the first set of characters (no spaces): \")\n",
        "set2_input = input(\"Enter the second set of characters (no spaces): \")\n",
        "\n",
        "# Convert the input strings to sets\n",
        "set1 = set(set1_input)\n",
        "set2 = set(set2_input)\n",
        "\n",
        "# Calculate the union of the two sets\n",
        "union_set = set1 | set2\n",
        "\n",
        "# Print the union\n",
        "print(\"The union of the two sets is:\", union_set)"
      ],
      "metadata": {
        "id": "K7J4Irh87gWM",
        "colab": {
          "base_uri": "https://localhost:8080/"
        },
        "outputId": "92771d4b-ac5f-4dd6-e014-bdf098113bcb"
      },
      "execution_count": null,
      "outputs": [
        {
          "name": "stdout",
          "output_type": "stream",
          "text": [
            "Enter the first set of characters (no spaces): \n"
          ]
        }
      ]
    },
    {
      "cell_type": "markdown",
      "source": [
        "Explanation:\n",
        "\n",
        "The input() function collects input from the user as a string.\n",
        "The set() constructor is used to convert the input strings into sets. This automatically removes duplicates and treats the input as unique characters.\n",
        "The union of the sets is computed using the | operator (which is the union operator for sets).\n",
        "Finally, the result (the union) is printed.\n",
        "\n",
        "Example Output:"
      ],
      "metadata": {
        "id": "opzlwTF_7naj"
      }
    },
    {
      "cell_type": "code",
      "source": [
        "Enter the first set of characters (no spaces): abc\n",
        "Enter the second set of characters (no spaces): bcd\n",
        "The union of the two sets is: {'a', 'b', 'c', 'd'}"
      ],
      "metadata": {
        "id": "q_ZZQaJR7sNI"
      },
      "execution_count": null,
      "outputs": []
    },
    {
      "cell_type": "markdown",
      "source": [
        "Question 27. Develop a code that takes a tuple of integers as input. The function should return the maximum and minimum values from the tuple using tuple unpacking.\n",
        "\n",
        "Answer: Here’s a Python function that takes a tuple of integers as input and returns the maximum and minimum values from the tuple using tuple unpacking:"
      ],
      "metadata": {
        "id": "uogMz6Bo7vbV"
      }
    },
    {
      "cell_type": "code",
      "source": [
        "def find_max_min(input_tuple):\n",
        "    # Use the built-in max() and min() functions to find the max and min\n",
        "    max_val = max(input_tuple)\n",
        "    min_val = min(input_tuple)\n",
        "\n",
        "    # Return the results as a tuple\n",
        "    return (max_val, min_val)\n",
        "\n",
        "# Example usage\n",
        "input_tuple = tuple(map(int, input(\"Enter a tuple of integers separated by spaces: \").split()))\n",
        "\n",
        "# Get the maximum and minimum values\n",
        "max_val, min_val = find_max_min(input_tuple)\n",
        "\n",
        "# Print the results\n",
        "print(f\"The maximum value is: {max_val}\")\n",
        "print(f\"The minimum value is: {min_val}\")"
      ],
      "metadata": {
        "id": "WdRyDriW8YdK"
      },
      "execution_count": null,
      "outputs": []
    },
    {
      "cell_type": "markdown",
      "source": [
        "Explanation:\n",
        "\n",
        "Input Handling: The code prompts the user to input a series of integers separated by spaces. The input() function takes the input as a string, and split() breaks it into a list of strings. map(int, ...) converts each string to an integer, and tuple() converts the list to a tuple.\n",
        "Finding Max and Min: The function find_max_min() computes the maximum and minimum values using Python's built-in max() and min() functions.\n",
        "Tuple Unpacking: The function returns a tuple containing the maximum and minimum values, which are unpacked into two variables (max_val, min_val) when called.\n",
        "\n",
        "Output: The maximum and minimum values are then printed."
      ],
      "metadata": {
        "id": "jT5AzYS38hOo"
      }
    },
    {
      "cell_type": "markdown",
      "source": [
        "Question 28. Create a code that defines two sets of integers. Then, print the union, intersection, and difference of these two sets.\n",
        "\n",
        "Answer: Here’s a Python code that defines two sets of integers and prints the union, intersection, and difference of these sets:"
      ],
      "metadata": {
        "id": "XScKA13Y8mHV"
      }
    },
    {
      "cell_type": "code",
      "source": [
        "# Define two sets of integers\n",
        "set1 = {1, 2, 3, 4, 5}\n",
        "set2 = {4, 5, 6, 7, 8}\n",
        "\n",
        "# Union of set1 and set2\n",
        "union_set = set1 | set2\n",
        "\n",
        "# Intersection of set1 and set2\n",
        "intersection_set = set1 & set2\n",
        "\n",
        "# Difference of set1 and set2\n",
        "difference_set = set1 - set2\n",
        "\n",
        "# Print the results\n",
        "print(\"Union of set1 and set2:\", union_set)\n",
        "print(\"Intersection of set1 and set2:\", intersection_set)\n",
        "print(\"Difference of set1 and set2:\", difference_set)"
      ],
      "metadata": {
        "id": "AhhRvkCB87uK"
      },
      "execution_count": null,
      "outputs": []
    },
    {
      "cell_type": "markdown",
      "source": [
        "Explanation:\n",
        "\n",
        "Union (|): The union of two sets contains all the elements from both sets, without duplicates.\n",
        "\n",
        "Intersection (&): The intersection of two sets contains only the elements that are present in both sets.\n",
        "\n",
        "Difference (-): The difference of two sets contains the elements that are in the first set but not in the second."
      ],
      "metadata": {
        "id": "UfqIuzoK9Czg"
      }
    },
    {
      "cell_type": "markdown",
      "source": [
        "Question 29. Write a code that takes a tuple and an element as input. The function should return the count of occurrences of the given element in the tuple.\n",
        "\n",
        "Answer: Here’s a Python function that takes a tuple and an element as input, and returns the count of occurrences of the given element in the tuple:"
      ],
      "metadata": {
        "id": "dIvNLCZE9KSu"
      }
    },
    {
      "cell_type": "code",
      "source": [
        "def count_element_in_tuple(input_tuple, element):\n",
        "    # Use the count() method to count occurrences of the element in the tuple\n",
        "    return input_tuple.count(element)\n",
        "\n",
        "# Example usage\n",
        "# Take a tuple input from the user\n",
        "input_tuple = tuple(map(int, input(\"Enter a tuple of integers separated by spaces: \").split()))\n",
        "\n",
        "# Take an element input from the user\n",
        "element = int(input(\"Enter the element to count: \"))\n",
        "\n",
        "# Get the count of occurrences of the element\n",
        "count = count_element_in_tuple(input_tuple, element)\n",
        "\n",
        "# Print the result\n",
        "print(f\"The element {element} appears {count} time(s) in the tuple.\")"
      ],
      "metadata": {
        "id": "NjWQslc69b4i"
      },
      "execution_count": null,
      "outputs": []
    },
    {
      "cell_type": "markdown",
      "source": [
        "Explanation:\n",
        "\n",
        "Input Handling:\n",
        "\n",
        "The code first prompts the user to input a tuple of integers (separated by spaces). It uses split() to break the string into a list and map(int, ...) to convert each item to an integer, then converts it to a tuple using tuple().\n",
        "The code then prompts the user to input the element to search for in the tuple.\n",
        "Counting Occurrences:\n",
        "\n",
        "The function count_element_in_tuple() uses the count() method, which is available for tuples, to count how many times the specified element appears in the tuple.\n",
        "\n",
        "Output:\n",
        "\n",
        "The result is printed to the console, showing how many times the given element appears in the tuple."
      ],
      "metadata": {
        "id": "aFH5JQ4X9nac"
      }
    },
    {
      "cell_type": "markdown",
      "source": [
        "Question 30. Develop a code that prompts the user to input two sets of strings. Then, print the symmetric difference of these two sets.\n",
        "\n",
        "Answer: Here’s a Python code that prompts the user to input two sets of strings and then prints the symmetric difference of these two sets:"
      ],
      "metadata": {
        "id": "N7sc8l4n9xPd"
      }
    },
    {
      "cell_type": "code",
      "source": [
        "# Prompt the user to input the first set of strings\n",
        "set1_input = input(\"Enter the first set of strings (separated by spaces): \").split()\n",
        "\n",
        "# Prompt the user to input the second set of strings\n",
        "set2_input = input(\"Enter the second set of strings (separated by spaces): \").split()\n",
        "\n",
        "# Convert the input lists to sets\n",
        "set1 = set(set1_input)\n",
        "set2 = set(set2_input)\n",
        "\n",
        "# Calculate the symmetric difference of the two sets\n",
        "symmetric_difference = set1 ^ set2\n",
        "\n",
        "# Print the symmetric difference\n",
        "print(\"The symmetric difference of the two sets is:\", symmetric_difference)"
      ],
      "metadata": {
        "id": "CI9q1LGy-Gy6"
      },
      "execution_count": null,
      "outputs": []
    },
    {
      "cell_type": "markdown",
      "source": [
        "Explanation:\n",
        "\n",
        "Input Handling:\n",
        "\n",
        "The code first prompts the user to enter two sets of strings, where each set is separated by spaces.\n",
        "split() is used to convert the input string into a list of words (strings).\n",
        "\n",
        "Conversion to Sets:\n",
        "\n",
        "The input lists are converted to sets using the set() constructor. This ensures that any duplicates in the input are removed, and the elements are treated as unique.\n",
        "\n",
        "Symmetric Difference (^):\n",
        "\n",
        "The symmetric difference of two sets contains all elements that are in either set, but not in both. This is computed using the ^ operator in Python.\n",
        "\n",
        "Output:\n",
        "\n",
        "The symmetric difference is printed."
      ],
      "metadata": {
        "id": "NmTCVGCm-R_T"
      }
    },
    {
      "cell_type": "markdown",
      "source": [
        "Question 31. Write a code that takes a list of words as input and returns a dictionary where the keys are unique words and the values are the frequencies of those words in the input list.\n",
        "\n",
        "Answer: Here’s a Python code that takes a list of words as input and returns a dictionary where the keys are unique words and the values are the frequencies of those words in the input list:"
      ],
      "metadata": {
        "id": "mAMuxnmq-iEu"
      }
    },
    {
      "cell_type": "code",
      "source": [
        "def word_frequency(input_list):\n",
        "    # Initialize an empty dictionary to store word frequencies\n",
        "    frequency_dict = {}\n",
        "\n",
        "    # Iterate through the input list of words\n",
        "    for word in input_list:\n",
        "        # If the word is already in the dictionary, increment its count\n",
        "        if word in frequency_dict:\n",
        "            frequency_dict[word] += 1\n",
        "        else:\n",
        "            # If the word is not in the dictionary, add it with a count of 1\n",
        "            frequency_dict[word] = 1\n",
        "\n",
        "    return frequency_dict\n",
        "\n",
        "# Example usage\n",
        "# Take input from the user and split it into a list of words\n",
        "input_words = input(\"Enter a list of words separated by spaces: \").split()\n",
        "\n",
        "# Get the word frequency dictionary\n",
        "word_freq = word_frequency(input_words)\n",
        "\n",
        "# Print the resulting dictionary\n",
        "print(\"Word frequency dictionary:\", word_freq)"
      ],
      "metadata": {
        "id": "CV2UECIa-0C-"
      },
      "execution_count": null,
      "outputs": []
    },
    {
      "cell_type": "markdown",
      "source": [
        "Explanation:\n",
        "\n",
        "1. Input Handling:\n",
        "\n",
        "The code prompts the user to input a string of words, which are separated by spaces. The split() function splits the input string into a list of words.\n",
        "\n",
        "2. Word Frequency Calculation:\n",
        "\n",
        "    a. The function word_frequency() creates an empty dictionary frequency_dict to store the frequency of each word.\n",
        "\n",
        "    b. It then iterates through the input list and checks if the word is already in the dictionary:\n",
        "\n",
        "        1. If the word exists in the dictionary, its count is incremented by 1.\n",
        "        2. If the word does not exist, it is added to the dictionary with an initial count of\n",
        "3. Output:\n",
        "\n",
        "The resulting dictionary, which contains words as keys and their frequencies as values, is returned and printed."
      ],
      "metadata": {
        "id": "IL64nYgU-66s"
      }
    },
    {
      "cell_type": "markdown",
      "source": [
        "Question 32. Write a code that takes two dictionaries as input and merges them into a single dictionary. If there are common keys, the values should be added together.\n",
        "\n",
        "Answer: Here's a Python code that takes two dictionaries as input and merges them into a single dictionary. If there are common keys, the values are added together:"
      ],
      "metadata": {
        "id": "eN4DZXjL_4eI"
      }
    },
    {
      "cell_type": "code",
      "source": [
        "def merge_dictionaries(dict1, dict2):\n",
        "    # Create a new dictionary to store the merged result\n",
        "    merged_dict = dict1.copy()  # Start with a copy of the first dictionary\n",
        "\n",
        "    # Iterate through the second dictionary and add the values to the merged dictionary\n",
        "    for key, value in dict2.items():\n",
        "        if key in merged_dict:\n",
        "            # If the key already exists, add the values together\n",
        "            merged_dict[key] += value\n",
        "        else:\n",
        "            # If the key doesn't exist, add the key-value pair\n",
        "            merged_dict[key] = value\n",
        "\n",
        "    return merged_dict\n",
        "\n",
        "# Example usage\n",
        "# Take input for the first dictionary\n",
        "dict1 = eval(input(\"Enter the first dictionary: \"))\n",
        "\n",
        "# Take input for the second dictionary\n",
        "dict2 = eval(input(\"Enter the second dictionary: \"))\n",
        "\n",
        "# Get the merged dictionary\n",
        "merged_result = merge_dictionaries(dict1, dict2)\n",
        "\n",
        "# Print the merged dictionary\n",
        "print(\"Merged dictionary:\", merged_result)"
      ],
      "metadata": {
        "id": "mpIor74bAOc7"
      },
      "execution_count": null,
      "outputs": []
    },
    {
      "cell_type": "markdown",
      "source": [
        "Explanation:\n",
        "\n",
        "1. Input Handling:\n",
        "\n",
        "    a. The user is prompted to input two dictionaries. The eval() function is used to parse the input as a dictionary.\n",
        "    \n",
        "2. Merging Logic:\n",
        "\n",
        "    a. The function merge_dictionaries() first copies the contents of the first dictionary (dict1) into a new dictionary (merged_dict).\n",
        "    b. Then, it iterates through the second dictionary (dict2). If a key from dict2 is already in merged_dict, it adds the corresponding value to the existing value. If the key is not found in merged_dict, it adds the new key-value pair.\n",
        "3. Output:\n",
        "\n",
        "    a. The merged dictionary, which includes the combined values for common keys, is returned and printed."
      ],
      "metadata": {
        "id": "rX3LnFEKAU1j"
      }
    },
    {
      "cell_type": "markdown",
      "source": [
        "Question 33. Write a code to access a value in a nested dictionary. The function should take the dictionary and a list of keys as input, and return the corresponding value. If any of the keys do not exist in the dictionary, the function should return None.\n",
        "\n",
        "Answer: Here’s a Python function that accesses a value in a nested dictionary based on a list of keys. If any key does not exist in the dictionary, it will return None:"
      ],
      "metadata": {
        "id": "No8saoa_AuOR"
      }
    },
    {
      "cell_type": "code",
      "source": [
        "def access_nested_value(nested_dict, keys):\n",
        "    # Iterate through the list of keys and access the nested dictionary\n",
        "    for key in keys:\n",
        "        # Check if the key exists in the current dictionary level\n",
        "        if isinstance(nested_dict, dict) and key in nested_dict:\n",
        "            # Move to the next level of the dictionary\n",
        "            nested_dict = nested_dict[key]\n",
        "        else:\n",
        "            # If the key does not exist, return None\n",
        "            return None\n",
        "    return nested_dict\n",
        "\n",
        "# Example usage\n",
        "nested_dict = {\n",
        "    'a': {\n",
        "        'b': {\n",
        "            'c': 10\n",
        "        },\n",
        "        'd': 20\n",
        "    },\n",
        "    'e': 30\n",
        "}\n",
        "\n",
        "# Take input for the list of keys\n",
        "keys = input(\"Enter the keys separated by spaces: \").split()\n",
        "\n",
        "# Convert keys to proper format (if needed)\n",
        "keys = [key for key in keys]\n",
        "\n",
        "# Access the nested value\n",
        "result = access_nested_value(nested_dict, keys)\n",
        "\n",
        "# Print the result\n",
        "print(\"The value is:\", result)"
      ],
      "metadata": {
        "id": "mUXnGb6wBHq3"
      },
      "execution_count": null,
      "outputs": []
    },
    {
      "cell_type": "markdown",
      "source": [
        "Explanation:\n",
        "\n",
        "1. Input Handling:\n",
        "\n",
        "    a. The code prompts the user to input a list of keys separated by spaces. These keys are stored as a list of strings.\n",
        "2. Accessing Nested Dictionary:\n",
        "\n",
        "    a. The function access_nested_value() iterates over the list of keys. It checks if the current key exists at the current level of the dictionary. If the key is found, it moves to the next level of the dictionary. If a key is not found at any level, the function returns None.\n",
        "\n",
        "3. Return Value:\n",
        "\n",
        "    a. The final value at the deepest level is returned, or None if any of the keys are not found."
      ],
      "metadata": {
        "id": "MBQmTK82BOwW"
      }
    },
    {
      "cell_type": "markdown",
      "source": [
        "Question 34. Write a code that takes a dictionary as input and returns a sorted version of it based on the values. You can choose whether to sort in ascending or descending order.\n",
        "\n",
        "Answer: Here's a Python code that takes a dictionary as input and returns a sorted version of it based on the values. The user can choose whether to sort in ascending or descending order:"
      ],
      "metadata": {
        "id": "inHLmv57Bnxa"
      }
    },
    {
      "cell_type": "code",
      "source": [
        "def sort_dict_by_value(input_dict, descending=False):\n",
        "    # Sort the dictionary by value, either ascending or descending\n",
        "    sorted_dict = dict(sorted(input_dict.items(), key=lambda item: item[1], reverse=descending))\n",
        "    return sorted_dict\n",
        "\n",
        "# Example usage\n",
        "# Take input for the dictionary\n",
        "input_dict = eval(input(\"Enter a dictionary: \"))\n",
        "\n",
        "# Ask the user whether to sort in ascending or descending order\n",
        "order = input(\"Do you want to sort in ascending order? (yes/no): \").strip().lower()\n",
        "\n",
        "# Set the descending flag based on user input\n",
        "descending = True if order == \"no\" else False\n",
        "\n",
        "# Get the sorted dictionary\n",
        "sorted_dict = sort_dict_by_value(input_dict, descending)\n",
        "\n",
        "# Print the sorted dictionary\n",
        "print(\"Sorted dictionary:\", sorted_dict)"
      ],
      "metadata": {
        "id": "Ga4XULHrB5aJ"
      },
      "execution_count": null,
      "outputs": []
    },
    {
      "cell_type": "markdown",
      "source": [
        "Explanation:\n",
        "\n",
        "1. Input Handling:\n",
        "\n",
        "    a.The user is prompted to input a dictionary. The eval() function is used to parse the input string as a dictionary.\n",
        "2. Sorting Logic:\n",
        "\n",
        "    a. The function sort_dict_by_value() takes the dictionary and a flag (descending) to control the sort order.\n",
        "    b. The sorted() function is used to sort the dictionary items by value (item[1]), and the reverse argument is set based on whether the user wants descending or ascending order.\n",
        "    c. The sorted result is converted back to a dictionary using dict().\n",
        "3. Sorting Order:\n",
        "\n",
        "    a. If the user chooses \"yes\", the dictionary will be sorted in ascending order (default).\n",
        "    b. If the user chooses \"no\", the dictionary will be sorted in descending order.\n",
        "4. Output:\n",
        "\n",
        "    a. The sorted dictionary is printed."
      ],
      "metadata": {
        "id": "9a2ULDrHB8j3"
      }
    },
    {
      "cell_type": "markdown",
      "source": [
        "Question 35. Write a code that inverts a dictionary, swapping keys and values. Ensure that the inverted dictionary correctly handles cases where multiple keys have the same value by storing the keys as a list in the inverted dictionary.\n",
        "\n",
        "Answer: To invert a dictionary and correctly handle the case where multiple keys have the same value, you can follow this approach:\n",
        "\n",
        "1. Loop through the original dictionary.\n",
        "2. For each key-value pair, check if the value already exists as a key in the inverted dictionary.\n",
        "3. If it exists, append the current key to the list of keys for that value.\n",
        "4. If it doesn't exist, create a new entry in the inverted dictionary with the value as the key and the current key as a list of keys.\n",
        "\n",
        "Here’s the Python code that does this:"
      ],
      "metadata": {
        "id": "7YcD_BdoClm7"
      }
    },
    {
      "cell_type": "code",
      "source": [
        "def invert_dict(original_dict):\n",
        "    inverted_dict = {}\n",
        "\n",
        "    for key, value in original_dict.items():\n",
        "        if value in inverted_dict:\n",
        "            inverted_dict[value].append(key)  # Add the key to the existing list\n",
        "        else:\n",
        "            inverted_dict[value] = [key]  # Create a new list with the current key\n",
        "\n",
        "    return inverted_dict\n",
        "\n",
        "# Example usage:\n",
        "original_dict = {\n",
        "    'a': 1,\n",
        "    'b': 2,\n",
        "    'c': 1,\n",
        "    'd': 3\n",
        "}\n",
        "\n",
        "inverted_dict = invert_dict(original_dict)\n",
        "print(inverted_dict)"
      ],
      "metadata": {
        "id": "45qrRaGfOHyB"
      },
      "execution_count": null,
      "outputs": []
    },
    {
      "cell_type": "markdown",
      "source": [
        "Explanation:\n",
        "\n",
        "The dictionary is iterated over, and for each key-value pair:\n",
        "\n",
        "a. If the value exists in the inverted dictionary, the key is added to the list associated with that value.\n",
        "\n",
        "b. If the value doesn't exist in the inverted dictionary, a new entry is created with that value as the key, and the key is added to a list as the associated value."
      ],
      "metadata": {
        "id": "WGZNZGqDOK3s"
      }
    }
  ]
}